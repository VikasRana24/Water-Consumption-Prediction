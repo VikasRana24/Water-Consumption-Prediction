{
 "cells": [
  {
   "cell_type": "code",
   "execution_count": 1,
   "metadata": {},
   "outputs": [],
   "source": [
    "import pandas as pd\n",
    "import numpy as np\n",
    "import warnings\n",
    "warnings.filterwarnings('ignore')\n",
    "import matplotlib.pyplot as plt\n",
    "import seaborn as sns"
   ]
  },
  {
   "cell_type": "code",
   "execution_count": 2,
   "metadata": {},
   "outputs": [],
   "source": [
    "meter=pd.read_csv('https://dev-smartutils.techolution.com/smartmeter/data/downloadMainsMeterHistory?fromTime=2020-03-01T18:30:00.209Z&toTime=2020-05-26T12:34:16.191Z&groupByTime=1h')"
   ]
  },
  {
   "cell_type": "code",
   "execution_count": 3,
   "metadata": {},
   "outputs": [],
   "source": [
    "meter=meter.dropna()"
   ]
  },
  {
   "cell_type": "code",
   "execution_count": 4,
   "metadata": {},
   "outputs": [
    {
     "data": {
      "text/html": [
       "<div>\n",
       "<style scoped>\n",
       "    .dataframe tbody tr th:only-of-type {\n",
       "        vertical-align: middle;\n",
       "    }\n",
       "\n",
       "    .dataframe tbody tr th {\n",
       "        vertical-align: top;\n",
       "    }\n",
       "\n",
       "    .dataframe thead th {\n",
       "        text-align: right;\n",
       "    }\n",
       "</style>\n",
       "<table border=\"1\" class=\"dataframe\">\n",
       "  <thead>\n",
       "    <tr style=\"text-align: right;\">\n",
       "      <th></th>\n",
       "      <th>Date</th>\n",
       "      <th>Time</th>\n",
       "      <th>Key</th>\n",
       "      <th>Phase1</th>\n",
       "      <th>Phase2</th>\n",
       "      <th>Phase3</th>\n",
       "      <th>Unit</th>\n",
       "    </tr>\n",
       "  </thead>\n",
       "  <tbody>\n",
       "    <tr>\n",
       "      <th>216</th>\n",
       "      <td>2020-03-03</td>\n",
       "      <td>12:00:00</td>\n",
       "      <td>Mains Current</td>\n",
       "      <td>25.86</td>\n",
       "      <td>26.98</td>\n",
       "      <td>16.94</td>\n",
       "      <td>A</td>\n",
       "    </tr>\n",
       "    <tr>\n",
       "      <th>217</th>\n",
       "      <td>2020-03-03</td>\n",
       "      <td>12:00:00</td>\n",
       "      <td>Mains Power Factor</td>\n",
       "      <td>0.99</td>\n",
       "      <td>0.99</td>\n",
       "      <td>0.97</td>\n",
       "      <td>units</td>\n",
       "    </tr>\n",
       "    <tr>\n",
       "      <th>218</th>\n",
       "      <td>2020-03-03</td>\n",
       "      <td>12:00:00</td>\n",
       "      <td>Mains Power</td>\n",
       "      <td>6.21</td>\n",
       "      <td>6.47</td>\n",
       "      <td>4.01</td>\n",
       "      <td>kW</td>\n",
       "    </tr>\n",
       "    <tr>\n",
       "      <th>219</th>\n",
       "      <td>2020-03-03</td>\n",
       "      <td>12:00:00</td>\n",
       "      <td>Mains Total Energy</td>\n",
       "      <td>2472.38</td>\n",
       "      <td>2472.38</td>\n",
       "      <td>2472.38</td>\n",
       "      <td>kWh</td>\n",
       "    </tr>\n",
       "    <tr>\n",
       "      <th>220</th>\n",
       "      <td>2020-03-03</td>\n",
       "      <td>12:00:00</td>\n",
       "      <td>Mains Voltage</td>\n",
       "      <td>242.22</td>\n",
       "      <td>241.60</td>\n",
       "      <td>242.94</td>\n",
       "      <td>V</td>\n",
       "    </tr>\n",
       "  </tbody>\n",
       "</table>\n",
       "</div>"
      ],
      "text/plain": [
       "           Date      Time                 Key   Phase1   Phase2   Phase3  \\\n",
       "216  2020-03-03  12:00:00       Mains Current    25.86    26.98    16.94   \n",
       "217  2020-03-03  12:00:00  Mains Power Factor     0.99     0.99     0.97   \n",
       "218  2020-03-03  12:00:00         Mains Power     6.21     6.47     4.01   \n",
       "219  2020-03-03  12:00:00  Mains Total Energy  2472.38  2472.38  2472.38   \n",
       "220  2020-03-03  12:00:00       Mains Voltage   242.22   241.60   242.94   \n",
       "\n",
       "      Unit  \n",
       "216      A  \n",
       "217  units  \n",
       "218     kW  \n",
       "219    kWh  \n",
       "220      V  "
      ]
     },
     "execution_count": 4,
     "metadata": {},
     "output_type": "execute_result"
    }
   ],
   "source": [
    "meter.head()"
   ]
  },
  {
   "cell_type": "code",
   "execution_count": 5,
   "metadata": {},
   "outputs": [
    {
     "data": {
      "text/html": [
       "<div>\n",
       "<style scoped>\n",
       "    .dataframe tbody tr th:only-of-type {\n",
       "        vertical-align: middle;\n",
       "    }\n",
       "\n",
       "    .dataframe tbody tr th {\n",
       "        vertical-align: top;\n",
       "    }\n",
       "\n",
       "    .dataframe thead th {\n",
       "        text-align: right;\n",
       "    }\n",
       "</style>\n",
       "<table border=\"1\" class=\"dataframe\">\n",
       "  <thead>\n",
       "    <tr style=\"text-align: right;\">\n",
       "      <th></th>\n",
       "      <th>Date</th>\n",
       "      <th>Time</th>\n",
       "      <th>Key</th>\n",
       "      <th>Phase1</th>\n",
       "      <th>Phase2</th>\n",
       "      <th>Phase3</th>\n",
       "      <th>Unit</th>\n",
       "    </tr>\n",
       "  </thead>\n",
       "  <tbody>\n",
       "    <tr>\n",
       "      <th>216</th>\n",
       "      <td>2020-03-03</td>\n",
       "      <td>12:00:00</td>\n",
       "      <td>Mains Current</td>\n",
       "      <td>25.86</td>\n",
       "      <td>26.98</td>\n",
       "      <td>16.94</td>\n",
       "      <td>A</td>\n",
       "    </tr>\n",
       "    <tr>\n",
       "      <th>217</th>\n",
       "      <td>2020-03-03</td>\n",
       "      <td>12:00:00</td>\n",
       "      <td>Mains Power Factor</td>\n",
       "      <td>0.99</td>\n",
       "      <td>0.99</td>\n",
       "      <td>0.97</td>\n",
       "      <td>units</td>\n",
       "    </tr>\n",
       "    <tr>\n",
       "      <th>218</th>\n",
       "      <td>2020-03-03</td>\n",
       "      <td>12:00:00</td>\n",
       "      <td>Mains Power</td>\n",
       "      <td>6.21</td>\n",
       "      <td>6.47</td>\n",
       "      <td>4.01</td>\n",
       "      <td>kW</td>\n",
       "    </tr>\n",
       "    <tr>\n",
       "      <th>219</th>\n",
       "      <td>2020-03-03</td>\n",
       "      <td>12:00:00</td>\n",
       "      <td>Mains Total Energy</td>\n",
       "      <td>2472.38</td>\n",
       "      <td>2472.38</td>\n",
       "      <td>2472.38</td>\n",
       "      <td>kWh</td>\n",
       "    </tr>\n",
       "    <tr>\n",
       "      <th>220</th>\n",
       "      <td>2020-03-03</td>\n",
       "      <td>12:00:00</td>\n",
       "      <td>Mains Voltage</td>\n",
       "      <td>242.22</td>\n",
       "      <td>241.60</td>\n",
       "      <td>242.94</td>\n",
       "      <td>V</td>\n",
       "    </tr>\n",
       "    <tr>\n",
       "      <th>222</th>\n",
       "      <td>2020-03-03</td>\n",
       "      <td>13:00:00</td>\n",
       "      <td>Mains Current</td>\n",
       "      <td>27.57</td>\n",
       "      <td>21.51</td>\n",
       "      <td>14.77</td>\n",
       "      <td>A</td>\n",
       "    </tr>\n",
       "    <tr>\n",
       "      <th>223</th>\n",
       "      <td>2020-03-03</td>\n",
       "      <td>13:00:00</td>\n",
       "      <td>Mains Power Factor</td>\n",
       "      <td>0.99</td>\n",
       "      <td>0.98</td>\n",
       "      <td>0.96</td>\n",
       "      <td>units</td>\n",
       "    </tr>\n",
       "    <tr>\n",
       "      <th>224</th>\n",
       "      <td>2020-03-03</td>\n",
       "      <td>13:00:00</td>\n",
       "      <td>Mains Power</td>\n",
       "      <td>6.68</td>\n",
       "      <td>5.14</td>\n",
       "      <td>3.48</td>\n",
       "      <td>kW</td>\n",
       "    </tr>\n",
       "    <tr>\n",
       "      <th>225</th>\n",
       "      <td>2020-03-03</td>\n",
       "      <td>13:00:00</td>\n",
       "      <td>Mains Total Energy</td>\n",
       "      <td>2485.56</td>\n",
       "      <td>2485.56</td>\n",
       "      <td>2485.56</td>\n",
       "      <td>kWh</td>\n",
       "    </tr>\n",
       "    <tr>\n",
       "      <th>226</th>\n",
       "      <td>2020-03-03</td>\n",
       "      <td>13:00:00</td>\n",
       "      <td>Mains Voltage</td>\n",
       "      <td>244.04</td>\n",
       "      <td>244.07</td>\n",
       "      <td>245.43</td>\n",
       "      <td>V</td>\n",
       "    </tr>\n",
       "    <tr>\n",
       "      <th>228</th>\n",
       "      <td>2020-03-03</td>\n",
       "      <td>14:00:00</td>\n",
       "      <td>Mains Current</td>\n",
       "      <td>10.35</td>\n",
       "      <td>18.96</td>\n",
       "      <td>14.12</td>\n",
       "      <td>A</td>\n",
       "    </tr>\n",
       "    <tr>\n",
       "      <th>229</th>\n",
       "      <td>2020-03-03</td>\n",
       "      <td>14:00:00</td>\n",
       "      <td>Mains Power Factor</td>\n",
       "      <td>0.96</td>\n",
       "      <td>0.98</td>\n",
       "      <td>0.96</td>\n",
       "      <td>units</td>\n",
       "    </tr>\n",
       "    <tr>\n",
       "      <th>230</th>\n",
       "      <td>2020-03-03</td>\n",
       "      <td>14:00:00</td>\n",
       "      <td>Mains Power</td>\n",
       "      <td>2.42</td>\n",
       "      <td>4.47</td>\n",
       "      <td>3.26</td>\n",
       "      <td>kW</td>\n",
       "    </tr>\n",
       "    <tr>\n",
       "      <th>231</th>\n",
       "      <td>2020-03-03</td>\n",
       "      <td>14:00:00</td>\n",
       "      <td>Mains Total Energy</td>\n",
       "      <td>2495.47</td>\n",
       "      <td>2495.47</td>\n",
       "      <td>2495.47</td>\n",
       "      <td>kWh</td>\n",
       "    </tr>\n",
       "    <tr>\n",
       "      <th>232</th>\n",
       "      <td>2020-03-03</td>\n",
       "      <td>14:00:00</td>\n",
       "      <td>Mains Voltage</td>\n",
       "      <td>242.26</td>\n",
       "      <td>240.32</td>\n",
       "      <td>240.81</td>\n",
       "      <td>V</td>\n",
       "    </tr>\n",
       "    <tr>\n",
       "      <th>234</th>\n",
       "      <td>2020-03-03</td>\n",
       "      <td>15:00:00</td>\n",
       "      <td>Mains Current</td>\n",
       "      <td>15.24</td>\n",
       "      <td>22.62</td>\n",
       "      <td>19.17</td>\n",
       "      <td>A</td>\n",
       "    </tr>\n",
       "    <tr>\n",
       "      <th>235</th>\n",
       "      <td>2020-03-03</td>\n",
       "      <td>15:00:00</td>\n",
       "      <td>Mains Power Factor</td>\n",
       "      <td>0.95</td>\n",
       "      <td>0.99</td>\n",
       "      <td>0.98</td>\n",
       "      <td>units</td>\n",
       "    </tr>\n",
       "    <tr>\n",
       "      <th>236</th>\n",
       "      <td>2020-03-03</td>\n",
       "      <td>15:00:00</td>\n",
       "      <td>Mains Power</td>\n",
       "      <td>3.48</td>\n",
       "      <td>5.33</td>\n",
       "      <td>4.49</td>\n",
       "      <td>kW</td>\n",
       "    </tr>\n",
       "    <tr>\n",
       "      <th>237</th>\n",
       "      <td>2020-03-03</td>\n",
       "      <td>15:00:00</td>\n",
       "      <td>Mains Total Energy</td>\n",
       "      <td>2505.96</td>\n",
       "      <td>2505.96</td>\n",
       "      <td>2505.96</td>\n",
       "      <td>kWh</td>\n",
       "    </tr>\n",
       "    <tr>\n",
       "      <th>238</th>\n",
       "      <td>2020-03-03</td>\n",
       "      <td>15:00:00</td>\n",
       "      <td>Mains Voltage</td>\n",
       "      <td>239.95</td>\n",
       "      <td>238.46</td>\n",
       "      <td>238.94</td>\n",
       "      <td>V</td>\n",
       "    </tr>\n",
       "  </tbody>\n",
       "</table>\n",
       "</div>"
      ],
      "text/plain": [
       "           Date      Time                 Key   Phase1   Phase2   Phase3  \\\n",
       "216  2020-03-03  12:00:00       Mains Current    25.86    26.98    16.94   \n",
       "217  2020-03-03  12:00:00  Mains Power Factor     0.99     0.99     0.97   \n",
       "218  2020-03-03  12:00:00         Mains Power     6.21     6.47     4.01   \n",
       "219  2020-03-03  12:00:00  Mains Total Energy  2472.38  2472.38  2472.38   \n",
       "220  2020-03-03  12:00:00       Mains Voltage   242.22   241.60   242.94   \n",
       "222  2020-03-03  13:00:00       Mains Current    27.57    21.51    14.77   \n",
       "223  2020-03-03  13:00:00  Mains Power Factor     0.99     0.98     0.96   \n",
       "224  2020-03-03  13:00:00         Mains Power     6.68     5.14     3.48   \n",
       "225  2020-03-03  13:00:00  Mains Total Energy  2485.56  2485.56  2485.56   \n",
       "226  2020-03-03  13:00:00       Mains Voltage   244.04   244.07   245.43   \n",
       "228  2020-03-03  14:00:00       Mains Current    10.35    18.96    14.12   \n",
       "229  2020-03-03  14:00:00  Mains Power Factor     0.96     0.98     0.96   \n",
       "230  2020-03-03  14:00:00         Mains Power     2.42     4.47     3.26   \n",
       "231  2020-03-03  14:00:00  Mains Total Energy  2495.47  2495.47  2495.47   \n",
       "232  2020-03-03  14:00:00       Mains Voltage   242.26   240.32   240.81   \n",
       "234  2020-03-03  15:00:00       Mains Current    15.24    22.62    19.17   \n",
       "235  2020-03-03  15:00:00  Mains Power Factor     0.95     0.99     0.98   \n",
       "236  2020-03-03  15:00:00         Mains Power     3.48     5.33     4.49   \n",
       "237  2020-03-03  15:00:00  Mains Total Energy  2505.96  2505.96  2505.96   \n",
       "238  2020-03-03  15:00:00       Mains Voltage   239.95   238.46   238.94   \n",
       "\n",
       "      Unit  \n",
       "216      A  \n",
       "217  units  \n",
       "218     kW  \n",
       "219    kWh  \n",
       "220      V  \n",
       "222      A  \n",
       "223  units  \n",
       "224     kW  \n",
       "225    kWh  \n",
       "226      V  \n",
       "228      A  \n",
       "229  units  \n",
       "230     kW  \n",
       "231    kWh  \n",
       "232      V  \n",
       "234      A  \n",
       "235  units  \n",
       "236     kW  \n",
       "237    kWh  \n",
       "238      V  "
      ]
     },
     "execution_count": 5,
     "metadata": {},
     "output_type": "execute_result"
    }
   ],
   "source": [
    "meter.head(20)"
   ]
  },
  {
   "cell_type": "code",
   "execution_count": 6,
   "metadata": {},
   "outputs": [],
   "source": [
    "meter=meter.loc[meter['Key']=='Mains Total Energy']"
   ]
  },
  {
   "cell_type": "code",
   "execution_count": 7,
   "metadata": {},
   "outputs": [
    {
     "data": {
      "text/html": [
       "<div>\n",
       "<style scoped>\n",
       "    .dataframe tbody tr th:only-of-type {\n",
       "        vertical-align: middle;\n",
       "    }\n",
       "\n",
       "    .dataframe tbody tr th {\n",
       "        vertical-align: top;\n",
       "    }\n",
       "\n",
       "    .dataframe thead th {\n",
       "        text-align: right;\n",
       "    }\n",
       "</style>\n",
       "<table border=\"1\" class=\"dataframe\">\n",
       "  <thead>\n",
       "    <tr style=\"text-align: right;\">\n",
       "      <th></th>\n",
       "      <th>Date</th>\n",
       "      <th>Time</th>\n",
       "      <th>Key</th>\n",
       "      <th>Phase1</th>\n",
       "      <th>Phase2</th>\n",
       "      <th>Phase3</th>\n",
       "      <th>Unit</th>\n",
       "    </tr>\n",
       "  </thead>\n",
       "  <tbody>\n",
       "    <tr>\n",
       "      <th>219</th>\n",
       "      <td>2020-03-03</td>\n",
       "      <td>12:00:00</td>\n",
       "      <td>Mains Total Energy</td>\n",
       "      <td>2472.38</td>\n",
       "      <td>2472.38</td>\n",
       "      <td>2472.38</td>\n",
       "      <td>kWh</td>\n",
       "    </tr>\n",
       "    <tr>\n",
       "      <th>225</th>\n",
       "      <td>2020-03-03</td>\n",
       "      <td>13:00:00</td>\n",
       "      <td>Mains Total Energy</td>\n",
       "      <td>2485.56</td>\n",
       "      <td>2485.56</td>\n",
       "      <td>2485.56</td>\n",
       "      <td>kWh</td>\n",
       "    </tr>\n",
       "    <tr>\n",
       "      <th>231</th>\n",
       "      <td>2020-03-03</td>\n",
       "      <td>14:00:00</td>\n",
       "      <td>Mains Total Energy</td>\n",
       "      <td>2495.47</td>\n",
       "      <td>2495.47</td>\n",
       "      <td>2495.47</td>\n",
       "      <td>kWh</td>\n",
       "    </tr>\n",
       "    <tr>\n",
       "      <th>237</th>\n",
       "      <td>2020-03-03</td>\n",
       "      <td>15:00:00</td>\n",
       "      <td>Mains Total Energy</td>\n",
       "      <td>2505.96</td>\n",
       "      <td>2505.96</td>\n",
       "      <td>2505.96</td>\n",
       "      <td>kWh</td>\n",
       "    </tr>\n",
       "    <tr>\n",
       "      <th>243</th>\n",
       "      <td>2020-03-03</td>\n",
       "      <td>16:00:00</td>\n",
       "      <td>Mains Total Energy</td>\n",
       "      <td>2516.61</td>\n",
       "      <td>2516.61</td>\n",
       "      <td>2516.61</td>\n",
       "      <td>kWh</td>\n",
       "    </tr>\n",
       "    <tr>\n",
       "      <th>249</th>\n",
       "      <td>2020-03-03</td>\n",
       "      <td>17:00:00</td>\n",
       "      <td>Mains Total Energy</td>\n",
       "      <td>2527.71</td>\n",
       "      <td>2527.71</td>\n",
       "      <td>2527.71</td>\n",
       "      <td>kWh</td>\n",
       "    </tr>\n",
       "    <tr>\n",
       "      <th>255</th>\n",
       "      <td>2020-03-03</td>\n",
       "      <td>18:00:00</td>\n",
       "      <td>Mains Total Energy</td>\n",
       "      <td>2537.92</td>\n",
       "      <td>2537.92</td>\n",
       "      <td>2537.92</td>\n",
       "      <td>kWh</td>\n",
       "    </tr>\n",
       "    <tr>\n",
       "      <th>261</th>\n",
       "      <td>2020-03-03</td>\n",
       "      <td>19:00:00</td>\n",
       "      <td>Mains Total Energy</td>\n",
       "      <td>2547.93</td>\n",
       "      <td>2547.93</td>\n",
       "      <td>2547.93</td>\n",
       "      <td>kWh</td>\n",
       "    </tr>\n",
       "    <tr>\n",
       "      <th>267</th>\n",
       "      <td>2020-03-03</td>\n",
       "      <td>20:00:00</td>\n",
       "      <td>Mains Total Energy</td>\n",
       "      <td>2557.25</td>\n",
       "      <td>2557.25</td>\n",
       "      <td>2557.25</td>\n",
       "      <td>kWh</td>\n",
       "    </tr>\n",
       "    <tr>\n",
       "      <th>273</th>\n",
       "      <td>2020-03-03</td>\n",
       "      <td>21:00:00</td>\n",
       "      <td>Mains Total Energy</td>\n",
       "      <td>2566.26</td>\n",
       "      <td>2566.26</td>\n",
       "      <td>2566.26</td>\n",
       "      <td>kWh</td>\n",
       "    </tr>\n",
       "    <tr>\n",
       "      <th>279</th>\n",
       "      <td>2020-03-03</td>\n",
       "      <td>22:00:00</td>\n",
       "      <td>Mains Total Energy</td>\n",
       "      <td>2578.54</td>\n",
       "      <td>2578.54</td>\n",
       "      <td>2578.54</td>\n",
       "      <td>kWh</td>\n",
       "    </tr>\n",
       "    <tr>\n",
       "      <th>285</th>\n",
       "      <td>2020-03-03</td>\n",
       "      <td>23:00:00</td>\n",
       "      <td>Mains Total Energy</td>\n",
       "      <td>2592.08</td>\n",
       "      <td>2592.08</td>\n",
       "      <td>2592.08</td>\n",
       "      <td>kWh</td>\n",
       "    </tr>\n",
       "    <tr>\n",
       "      <th>291</th>\n",
       "      <td>2020-03-04</td>\n",
       "      <td>00:00:00</td>\n",
       "      <td>Mains Total Energy</td>\n",
       "      <td>2603.67</td>\n",
       "      <td>2603.67</td>\n",
       "      <td>2603.67</td>\n",
       "      <td>kWh</td>\n",
       "    </tr>\n",
       "    <tr>\n",
       "      <th>297</th>\n",
       "      <td>2020-03-04</td>\n",
       "      <td>01:00:00</td>\n",
       "      <td>Mains Total Energy</td>\n",
       "      <td>2615.17</td>\n",
       "      <td>2615.17</td>\n",
       "      <td>2615.17</td>\n",
       "      <td>kWh</td>\n",
       "    </tr>\n",
       "  </tbody>\n",
       "</table>\n",
       "</div>"
      ],
      "text/plain": [
       "           Date      Time                 Key   Phase1   Phase2   Phase3 Unit\n",
       "219  2020-03-03  12:00:00  Mains Total Energy  2472.38  2472.38  2472.38  kWh\n",
       "225  2020-03-03  13:00:00  Mains Total Energy  2485.56  2485.56  2485.56  kWh\n",
       "231  2020-03-03  14:00:00  Mains Total Energy  2495.47  2495.47  2495.47  kWh\n",
       "237  2020-03-03  15:00:00  Mains Total Energy  2505.96  2505.96  2505.96  kWh\n",
       "243  2020-03-03  16:00:00  Mains Total Energy  2516.61  2516.61  2516.61  kWh\n",
       "249  2020-03-03  17:00:00  Mains Total Energy  2527.71  2527.71  2527.71  kWh\n",
       "255  2020-03-03  18:00:00  Mains Total Energy  2537.92  2537.92  2537.92  kWh\n",
       "261  2020-03-03  19:00:00  Mains Total Energy  2547.93  2547.93  2547.93  kWh\n",
       "267  2020-03-03  20:00:00  Mains Total Energy  2557.25  2557.25  2557.25  kWh\n",
       "273  2020-03-03  21:00:00  Mains Total Energy  2566.26  2566.26  2566.26  kWh\n",
       "279  2020-03-03  22:00:00  Mains Total Energy  2578.54  2578.54  2578.54  kWh\n",
       "285  2020-03-03  23:00:00  Mains Total Energy  2592.08  2592.08  2592.08  kWh\n",
       "291  2020-03-04  00:00:00  Mains Total Energy  2603.67  2603.67  2603.67  kWh\n",
       "297  2020-03-04  01:00:00  Mains Total Energy  2615.17  2615.17  2615.17  kWh"
      ]
     },
     "execution_count": 7,
     "metadata": {},
     "output_type": "execute_result"
    }
   ],
   "source": [
    "meter.head(14)"
   ]
  },
  {
   "cell_type": "code",
   "execution_count": 8,
   "metadata": {},
   "outputs": [
    {
     "data": {
      "text/plain": [
       "Date       object\n",
       "Time       object\n",
       "Key        object\n",
       "Phase1    float64\n",
       "Phase2    float64\n",
       "Phase3    float64\n",
       "Unit       object\n",
       "dtype: object"
      ]
     },
     "execution_count": 8,
     "metadata": {},
     "output_type": "execute_result"
    }
   ],
   "source": [
    "meter.dtypes"
   ]
  },
  {
   "cell_type": "code",
   "execution_count": 9,
   "metadata": {},
   "outputs": [
    {
     "data": {
      "text/plain": [
       "2020-03-07    24\n",
       "2020-04-27    24\n",
       "2020-03-29    24\n",
       "2020-03-27    24\n",
       "2020-04-15    24\n",
       "              ..\n",
       "2020-04-06    13\n",
       "2020-05-22    12\n",
       "2020-03-03    12\n",
       "2020-04-13    12\n",
       "2020-04-04    10\n",
       "Name: Date, Length: 79, dtype: int64"
      ]
     },
     "execution_count": 9,
     "metadata": {},
     "output_type": "execute_result"
    }
   ],
   "source": [
    "meter.Date.value_counts()"
   ]
  },
  {
   "cell_type": "code",
   "execution_count": 10,
   "metadata": {},
   "outputs": [],
   "source": [
    "meter=meter.drop(['Key','Unit','Phase2','Phase3'],axis=1)"
   ]
  },
  {
   "cell_type": "code",
   "execution_count": 11,
   "metadata": {},
   "outputs": [],
   "source": [
    "meter['Energy_Consumption']=meter['Phase1']-meter['Phase1'].shift(1)"
   ]
  },
  {
   "cell_type": "code",
   "execution_count": 12,
   "metadata": {},
   "outputs": [
    {
     "data": {
      "text/html": [
       "<div>\n",
       "<style scoped>\n",
       "    .dataframe tbody tr th:only-of-type {\n",
       "        vertical-align: middle;\n",
       "    }\n",
       "\n",
       "    .dataframe tbody tr th {\n",
       "        vertical-align: top;\n",
       "    }\n",
       "\n",
       "    .dataframe thead th {\n",
       "        text-align: right;\n",
       "    }\n",
       "</style>\n",
       "<table border=\"1\" class=\"dataframe\">\n",
       "  <thead>\n",
       "    <tr style=\"text-align: right;\">\n",
       "      <th></th>\n",
       "      <th>Date</th>\n",
       "      <th>Time</th>\n",
       "      <th>Phase1</th>\n",
       "      <th>Energy_Consumption</th>\n",
       "    </tr>\n",
       "  </thead>\n",
       "  <tbody>\n",
       "    <tr>\n",
       "      <th>219</th>\n",
       "      <td>2020-03-03</td>\n",
       "      <td>12:00:00</td>\n",
       "      <td>2472.38</td>\n",
       "      <td>NaN</td>\n",
       "    </tr>\n",
       "    <tr>\n",
       "      <th>225</th>\n",
       "      <td>2020-03-03</td>\n",
       "      <td>13:00:00</td>\n",
       "      <td>2485.56</td>\n",
       "      <td>13.18</td>\n",
       "    </tr>\n",
       "    <tr>\n",
       "      <th>231</th>\n",
       "      <td>2020-03-03</td>\n",
       "      <td>14:00:00</td>\n",
       "      <td>2495.47</td>\n",
       "      <td>9.91</td>\n",
       "    </tr>\n",
       "    <tr>\n",
       "      <th>237</th>\n",
       "      <td>2020-03-03</td>\n",
       "      <td>15:00:00</td>\n",
       "      <td>2505.96</td>\n",
       "      <td>10.49</td>\n",
       "    </tr>\n",
       "    <tr>\n",
       "      <th>243</th>\n",
       "      <td>2020-03-03</td>\n",
       "      <td>16:00:00</td>\n",
       "      <td>2516.61</td>\n",
       "      <td>10.65</td>\n",
       "    </tr>\n",
       "  </tbody>\n",
       "</table>\n",
       "</div>"
      ],
      "text/plain": [
       "           Date      Time   Phase1  Energy_Consumption\n",
       "219  2020-03-03  12:00:00  2472.38                 NaN\n",
       "225  2020-03-03  13:00:00  2485.56               13.18\n",
       "231  2020-03-03  14:00:00  2495.47                9.91\n",
       "237  2020-03-03  15:00:00  2505.96               10.49\n",
       "243  2020-03-03  16:00:00  2516.61               10.65"
      ]
     },
     "execution_count": 12,
     "metadata": {},
     "output_type": "execute_result"
    }
   ],
   "source": [
    "meter.head()"
   ]
  },
  {
   "cell_type": "code",
   "execution_count": 13,
   "metadata": {},
   "outputs": [],
   "source": [
    "meter=meter.fillna(0)"
   ]
  },
  {
   "cell_type": "code",
   "execution_count": 14,
   "metadata": {},
   "outputs": [
    {
     "data": {
      "text/html": [
       "<div>\n",
       "<style scoped>\n",
       "    .dataframe tbody tr th:only-of-type {\n",
       "        vertical-align: middle;\n",
       "    }\n",
       "\n",
       "    .dataframe tbody tr th {\n",
       "        vertical-align: top;\n",
       "    }\n",
       "\n",
       "    .dataframe thead th {\n",
       "        text-align: right;\n",
       "    }\n",
       "</style>\n",
       "<table border=\"1\" class=\"dataframe\">\n",
       "  <thead>\n",
       "    <tr style=\"text-align: right;\">\n",
       "      <th></th>\n",
       "      <th>Date</th>\n",
       "      <th>Time</th>\n",
       "      <th>Phase1</th>\n",
       "      <th>Energy_Consumption</th>\n",
       "    </tr>\n",
       "  </thead>\n",
       "  <tbody>\n",
       "    <tr>\n",
       "      <th>219</th>\n",
       "      <td>2020-03-03</td>\n",
       "      <td>12:00:00</td>\n",
       "      <td>2472.38</td>\n",
       "      <td>0.00</td>\n",
       "    </tr>\n",
       "    <tr>\n",
       "      <th>225</th>\n",
       "      <td>2020-03-03</td>\n",
       "      <td>13:00:00</td>\n",
       "      <td>2485.56</td>\n",
       "      <td>13.18</td>\n",
       "    </tr>\n",
       "    <tr>\n",
       "      <th>231</th>\n",
       "      <td>2020-03-03</td>\n",
       "      <td>14:00:00</td>\n",
       "      <td>2495.47</td>\n",
       "      <td>9.91</td>\n",
       "    </tr>\n",
       "    <tr>\n",
       "      <th>237</th>\n",
       "      <td>2020-03-03</td>\n",
       "      <td>15:00:00</td>\n",
       "      <td>2505.96</td>\n",
       "      <td>10.49</td>\n",
       "    </tr>\n",
       "    <tr>\n",
       "      <th>243</th>\n",
       "      <td>2020-03-03</td>\n",
       "      <td>16:00:00</td>\n",
       "      <td>2516.61</td>\n",
       "      <td>10.65</td>\n",
       "    </tr>\n",
       "  </tbody>\n",
       "</table>\n",
       "</div>"
      ],
      "text/plain": [
       "           Date      Time   Phase1  Energy_Consumption\n",
       "219  2020-03-03  12:00:00  2472.38                0.00\n",
       "225  2020-03-03  13:00:00  2485.56               13.18\n",
       "231  2020-03-03  14:00:00  2495.47                9.91\n",
       "237  2020-03-03  15:00:00  2505.96               10.49\n",
       "243  2020-03-03  16:00:00  2516.61               10.65"
      ]
     },
     "execution_count": 14,
     "metadata": {},
     "output_type": "execute_result"
    }
   ],
   "source": [
    "meter.head()"
   ]
  },
  {
   "cell_type": "code",
   "execution_count": 15,
   "metadata": {},
   "outputs": [],
   "source": [
    "meter=meter.drop(['Phase1'],axis=1)"
   ]
  },
  {
   "cell_type": "code",
   "execution_count": 16,
   "metadata": {},
   "outputs": [],
   "source": [
    "meter['Date']=pd.to_datetime(meter['Date'])"
   ]
  },
  {
   "cell_type": "code",
   "execution_count": 17,
   "metadata": {
    "scrolled": false
   },
   "outputs": [
    {
     "data": {
      "text/html": [
       "<div>\n",
       "<style scoped>\n",
       "    .dataframe tbody tr th:only-of-type {\n",
       "        vertical-align: middle;\n",
       "    }\n",
       "\n",
       "    .dataframe tbody tr th {\n",
       "        vertical-align: top;\n",
       "    }\n",
       "\n",
       "    .dataframe thead th {\n",
       "        text-align: right;\n",
       "    }\n",
       "</style>\n",
       "<table border=\"1\" class=\"dataframe\">\n",
       "  <thead>\n",
       "    <tr style=\"text-align: right;\">\n",
       "      <th></th>\n",
       "      <th>Date</th>\n",
       "      <th>Time</th>\n",
       "      <th>Energy_Consumption</th>\n",
       "    </tr>\n",
       "  </thead>\n",
       "  <tbody>\n",
       "    <tr>\n",
       "      <th>219</th>\n",
       "      <td>2020-03-03</td>\n",
       "      <td>12:00:00</td>\n",
       "      <td>0.00</td>\n",
       "    </tr>\n",
       "    <tr>\n",
       "      <th>225</th>\n",
       "      <td>2020-03-03</td>\n",
       "      <td>13:00:00</td>\n",
       "      <td>13.18</td>\n",
       "    </tr>\n",
       "    <tr>\n",
       "      <th>231</th>\n",
       "      <td>2020-03-03</td>\n",
       "      <td>14:00:00</td>\n",
       "      <td>9.91</td>\n",
       "    </tr>\n",
       "    <tr>\n",
       "      <th>237</th>\n",
       "      <td>2020-03-03</td>\n",
       "      <td>15:00:00</td>\n",
       "      <td>10.49</td>\n",
       "    </tr>\n",
       "    <tr>\n",
       "      <th>243</th>\n",
       "      <td>2020-03-03</td>\n",
       "      <td>16:00:00</td>\n",
       "      <td>10.65</td>\n",
       "    </tr>\n",
       "  </tbody>\n",
       "</table>\n",
       "</div>"
      ],
      "text/plain": [
       "          Date      Time  Energy_Consumption\n",
       "219 2020-03-03  12:00:00                0.00\n",
       "225 2020-03-03  13:00:00               13.18\n",
       "231 2020-03-03  14:00:00                9.91\n",
       "237 2020-03-03  15:00:00               10.49\n",
       "243 2020-03-03  16:00:00               10.65"
      ]
     },
     "execution_count": 17,
     "metadata": {},
     "output_type": "execute_result"
    }
   ],
   "source": [
    "meter.head()"
   ]
  },
  {
   "cell_type": "code",
   "execution_count": 18,
   "metadata": {},
   "outputs": [
    {
     "data": {
      "text/plain": [
       "Date\n",
       "2020-03-03    119.70\n",
       "2020-03-04    203.33\n",
       "2020-03-05    200.40\n",
       "2020-03-06    230.53\n",
       "2020-03-07    224.76\n",
       "               ...  \n",
       "2020-05-18     50.34\n",
       "2020-05-19    208.29\n",
       "2020-05-20    132.89\n",
       "2020-05-21    175.10\n",
       "2020-05-22     44.39\n",
       "Name: Energy_Consumption, Length: 79, dtype: float64"
      ]
     },
     "execution_count": 18,
     "metadata": {},
     "output_type": "execute_result"
    }
   ],
   "source": [
    "meter=meter.groupby('Date')['Energy_Consumption'].sum()\n",
    "meter"
   ]
  },
  {
   "cell_type": "code",
   "execution_count": 19,
   "metadata": {
    "scrolled": true
   },
   "outputs": [
    {
     "data": {
      "text/plain": [
       "Date\n",
       "2020-03-03    119.70\n",
       "2020-03-04    203.33\n",
       "2020-03-05    200.40\n",
       "2020-03-06    230.53\n",
       "2020-03-07    224.76\n",
       "Name: Energy_Consumption, dtype: float64"
      ]
     },
     "execution_count": 19,
     "metadata": {},
     "output_type": "execute_result"
    }
   ],
   "source": [
    "meter.head()"
   ]
  },
  {
   "cell_type": "code",
   "execution_count": 20,
   "metadata": {
    "scrolled": true
   },
   "outputs": [
    {
     "data": {
      "text/html": [
       "<div>\n",
       "<style scoped>\n",
       "    .dataframe tbody tr th:only-of-type {\n",
       "        vertical-align: middle;\n",
       "    }\n",
       "\n",
       "    .dataframe tbody tr th {\n",
       "        vertical-align: top;\n",
       "    }\n",
       "\n",
       "    .dataframe thead th {\n",
       "        text-align: right;\n",
       "    }\n",
       "</style>\n",
       "<table border=\"1\" class=\"dataframe\">\n",
       "  <thead>\n",
       "    <tr style=\"text-align: right;\">\n",
       "      <th></th>\n",
       "      <th>Energy_Consumption</th>\n",
       "    </tr>\n",
       "    <tr>\n",
       "      <th>Date</th>\n",
       "      <th></th>\n",
       "    </tr>\n",
       "  </thead>\n",
       "  <tbody>\n",
       "    <tr>\n",
       "      <th>2020-03-03</th>\n",
       "      <td>119.70</td>\n",
       "    </tr>\n",
       "    <tr>\n",
       "      <th>2020-03-04</th>\n",
       "      <td>203.33</td>\n",
       "    </tr>\n",
       "    <tr>\n",
       "      <th>2020-03-05</th>\n",
       "      <td>200.40</td>\n",
       "    </tr>\n",
       "    <tr>\n",
       "      <th>2020-03-06</th>\n",
       "      <td>230.53</td>\n",
       "    </tr>\n",
       "    <tr>\n",
       "      <th>2020-03-07</th>\n",
       "      <td>224.76</td>\n",
       "    </tr>\n",
       "  </tbody>\n",
       "</table>\n",
       "</div>"
      ],
      "text/plain": [
       "            Energy_Consumption\n",
       "Date                          \n",
       "2020-03-03              119.70\n",
       "2020-03-04              203.33\n",
       "2020-03-05              200.40\n",
       "2020-03-06              230.53\n",
       "2020-03-07              224.76"
      ]
     },
     "execution_count": 20,
     "metadata": {},
     "output_type": "execute_result"
    }
   ],
   "source": [
    "meter=pd.DataFrame(meter)\n",
    "meter.head()"
   ]
  },
  {
   "cell_type": "code",
   "execution_count": 21,
   "metadata": {},
   "outputs": [
    {
     "data": {
      "text/plain": [
       "16.920000000000073"
      ]
     },
     "execution_count": 21,
     "metadata": {},
     "output_type": "execute_result"
    }
   ],
   "source": [
    "meter['Energy_Consumption'].min()"
   ]
  },
  {
   "cell_type": "code",
   "execution_count": 22,
   "metadata": {},
   "outputs": [
    {
     "data": {
      "text/plain": [
       "DatetimeIndex(['2020-03-03', '2020-03-04', '2020-03-05', '2020-03-06',\n",
       "               '2020-03-07', '2020-03-08', '2020-03-09', '2020-03-10',\n",
       "               '2020-03-11', '2020-03-12', '2020-03-13', '2020-03-14',\n",
       "               '2020-03-15', '2020-03-16', '2020-03-17', '2020-03-18',\n",
       "               '2020-03-19', '2020-03-20', '2020-03-21', '2020-03-22',\n",
       "               '2020-03-23', '2020-03-24', '2020-03-25', '2020-03-26',\n",
       "               '2020-03-27', '2020-03-28', '2020-03-29', '2020-03-30',\n",
       "               '2020-03-31', '2020-04-01', '2020-04-02', '2020-04-03',\n",
       "               '2020-04-04', '2020-04-06', '2020-04-07', '2020-04-08',\n",
       "               '2020-04-09', '2020-04-10', '2020-04-11', '2020-04-13',\n",
       "               '2020-04-14', '2020-04-15', '2020-04-16', '2020-04-17',\n",
       "               '2020-04-18', '2020-04-19', '2020-04-20', '2020-04-21',\n",
       "               '2020-04-22', '2020-04-23', '2020-04-24', '2020-04-25',\n",
       "               '2020-04-26', '2020-04-27', '2020-04-28', '2020-04-29',\n",
       "               '2020-04-30', '2020-05-01', '2020-05-02', '2020-05-03',\n",
       "               '2020-05-04', '2020-05-05', '2020-05-06', '2020-05-07',\n",
       "               '2020-05-08', '2020-05-09', '2020-05-10', '2020-05-11',\n",
       "               '2020-05-12', '2020-05-13', '2020-05-14', '2020-05-15',\n",
       "               '2020-05-16', '2020-05-17', '2020-05-18', '2020-05-19',\n",
       "               '2020-05-20', '2020-05-21', '2020-05-22'],\n",
       "              dtype='datetime64[ns]', name='Date', freq=None)"
      ]
     },
     "execution_count": 22,
     "metadata": {},
     "output_type": "execute_result"
    }
   ],
   "source": [
    "meter.index"
   ]
  },
  {
   "cell_type": "code",
   "execution_count": 23,
   "metadata": {},
   "outputs": [
    {
     "data": {
      "text/plain": [
       "DatetimeIndex(['2020-04-05', '2020-04-12'], dtype='datetime64[ns]', freq=None)"
      ]
     },
     "execution_count": 23,
     "metadata": {},
     "output_type": "execute_result"
    }
   ],
   "source": [
    "pd.date_range(start = '2020-03-03', end = '2020-05-21' ).difference(meter.index)"
   ]
  },
  {
   "cell_type": "code",
   "execution_count": 24,
   "metadata": {},
   "outputs": [],
   "source": [
    "idx = pd.date_range('2020-03-03', '2020-05-21')"
   ]
  },
  {
   "cell_type": "code",
   "execution_count": 25,
   "metadata": {},
   "outputs": [],
   "source": [
    "meter = meter.reindex(idx, fill_value=16.92)"
   ]
  },
  {
   "cell_type": "code",
   "execution_count": 26,
   "metadata": {},
   "outputs": [
    {
     "data": {
      "text/plain": [
       "<matplotlib.axes._subplots.AxesSubplot at 0x21049eada08>"
      ]
     },
     "execution_count": 26,
     "metadata": {},
     "output_type": "execute_result"
    },
    {
     "data": {
      "image/png": "[encoded data removed]",
      "text/plain": [
       "<Figure size 432x288 with 1 Axes>"
      ]
     },
     "metadata": {
      "needs_background": "light"
     },
     "output_type": "display_data"
    }
   ],
   "source": [
    "meter.plot()"
   ]
  },
  {
   "cell_type": "code",
   "execution_count": 27,
   "metadata": {},
   "outputs": [],
   "source": [
    "### Testing For Stationarity\n",
    "\n",
    "from statsmodels.tsa.stattools import adfuller"
   ]
  },
  {
   "cell_type": "code",
   "execution_count": 28,
   "metadata": {},
   "outputs": [],
   "source": [
    "#Ho: It is non stationary\n",
    "#H1: It is stationary\n",
    "\n",
    "def adfuller_test(meter):\n",
    "    result=adfuller(meter)\n",
    "    labels = ['ADF Test Statistic','p-value','#Lags Used','Number of Observations Used']\n",
    "    for value,label in zip(result,labels):\n",
    "        print(label+' : '+str(value) )\n",
    "    if result[1] <= 0.05:\n",
    "        print(\"strong evidence against the null hypothesis(Ho), reject the null hypothesis. Data has no unit root and is stationary\")\n",
    "    else:\n",
    "        print(\"weak evidence against null hypothesis, time series has a unit root, indicating it is non-stationary \")"
   ]
  },
  {
   "cell_type": "code",
   "execution_count": 29,
   "metadata": {},
   "outputs": [
    {
     "name": "stdout",
     "output_type": "stream",
     "text": [
      "ADF Test Statistic : -1.3149336072833526\n",
      "p-value : 0.6223127788685823\n",
      "#Lags Used : 7\n",
      "Number of Observations Used : 72\n",
      "weak evidence against null hypothesis, time series has a unit root, indicating it is non-stationary \n"
     ]
    }
   ],
   "source": [
    "adfuller_test(meter)"
   ]
  },
  {
   "cell_type": "code",
   "execution_count": 30,
   "metadata": {},
   "outputs": [],
   "source": [
    "meter['Seasonal First Difference']=meter['Energy_Consumption']-meter['Energy_Consumption'].shift(1)"
   ]
  },
  {
   "cell_type": "code",
   "execution_count": 31,
   "metadata": {
    "scrolled": true
   },
   "outputs": [
    {
     "data": {
      "text/html": [
       "<div>\n",
       "<style scoped>\n",
       "    .dataframe tbody tr th:only-of-type {\n",
       "        vertical-align: middle;\n",
       "    }\n",
       "\n",
       "    .dataframe tbody tr th {\n",
       "        vertical-align: top;\n",
       "    }\n",
       "\n",
       "    .dataframe thead th {\n",
       "        text-align: right;\n",
       "    }\n",
       "</style>\n",
       "<table border=\"1\" class=\"dataframe\">\n",
       "  <thead>\n",
       "    <tr style=\"text-align: right;\">\n",
       "      <th></th>\n",
       "      <th>Energy_Consumption</th>\n",
       "      <th>Seasonal First Difference</th>\n",
       "    </tr>\n",
       "  </thead>\n",
       "  <tbody>\n",
       "    <tr>\n",
       "      <th>2020-03-03</th>\n",
       "      <td>119.70</td>\n",
       "      <td>0.00</td>\n",
       "    </tr>\n",
       "    <tr>\n",
       "      <th>2020-03-04</th>\n",
       "      <td>203.33</td>\n",
       "      <td>83.63</td>\n",
       "    </tr>\n",
       "    <tr>\n",
       "      <th>2020-03-05</th>\n",
       "      <td>200.40</td>\n",
       "      <td>-2.93</td>\n",
       "    </tr>\n",
       "    <tr>\n",
       "      <th>2020-03-06</th>\n",
       "      <td>230.53</td>\n",
       "      <td>30.13</td>\n",
       "    </tr>\n",
       "    <tr>\n",
       "      <th>2020-03-07</th>\n",
       "      <td>224.76</td>\n",
       "      <td>-5.77</td>\n",
       "    </tr>\n",
       "  </tbody>\n",
       "</table>\n",
       "</div>"
      ],
      "text/plain": [
       "            Energy_Consumption  Seasonal First Difference\n",
       "2020-03-03              119.70                       0.00\n",
       "2020-03-04              203.33                      83.63\n",
       "2020-03-05              200.40                      -2.93\n",
       "2020-03-06              230.53                      30.13\n",
       "2020-03-07              224.76                      -5.77"
      ]
     },
     "execution_count": 31,
     "metadata": {},
     "output_type": "execute_result"
    }
   ],
   "source": [
    "meter=meter.fillna(0)\n",
    "meter.head()"
   ]
  },
  {
   "cell_type": "code",
   "execution_count": 32,
   "metadata": {},
   "outputs": [
    {
     "name": "stdout",
     "output_type": "stream",
     "text": [
      "ADF Test Statistic : -3.3683439386610003\n",
      "p-value : 0.012086540797229178\n",
      "#Lags Used : 6\n",
      "Number of Observations Used : 73\n",
      "strong evidence against the null hypothesis(Ho), reject the null hypothesis. Data has no unit root and is stationary\n"
     ]
    }
   ],
   "source": [
    "adfuller_test(meter['Seasonal First Difference'])"
   ]
  },
  {
   "cell_type": "code",
   "execution_count": 33,
   "metadata": {
    "scrolled": true
   },
   "outputs": [
    {
     "data": {
      "text/plain": [
       "<matplotlib.axes._subplots.AxesSubplot at 0x2104aea22c8>"
      ]
     },
     "execution_count": 33,
     "metadata": {},
     "output_type": "execute_result"
    },
    {
     "data": {
      "image/png": "[encoded data removed]",
      "text/plain": [
       "<Figure size 432x288 with 1 Axes>"
      ]
     },
     "metadata": {
      "needs_background": "light"
     },
     "output_type": "display_data"
    }
   ],
   "source": [
    "meter['Seasonal First Difference'].plot()"
   ]
  },
  {
   "cell_type": "markdown",
   "metadata": {},
   "source": [
    "## Model Building "
   ]
  },
  {
   "cell_type": "code",
   "execution_count": 34,
   "metadata": {},
   "outputs": [],
   "source": [
    "#from statsmodels.graphics.tsaplots import plot_acf,plot_pacf\n",
    "from statsmodels.tsa.stattools import acf, pacf"
   ]
  },
  {
   "cell_type": "code",
   "execution_count": 35,
   "metadata": {},
   "outputs": [],
   "source": [
    "lag_acf = acf(meter['Seasonal First Difference'], nlags=7)\n",
    "lag_pacf = pacf(meter['Seasonal First Difference'], nlags=7, method='ols')"
   ]
  },
  {
   "cell_type": "code",
   "execution_count": 36,
   "metadata": {
    "scrolled": true
   },
   "outputs": [
    {
     "data": {
      "text/plain": [
       "Text(0.5, 1.0, 'Autocorrelation Function')"
      ]
     },
     "execution_count": 36,
     "metadata": {},
     "output_type": "execute_result"
    },
    {
     "data": {
      "image/png": "[encoded data removed]",
      "text/plain": [
       "<Figure size 432x288 with 1 Axes>"
      ]
     },
     "metadata": {
      "needs_background": "light"
     },
     "output_type": "display_data"
    }
   ],
   "source": [
    "#Plot ACF: \n",
    "plt.subplot(121) \n",
    "plt.plot(lag_acf)\n",
    "plt.axhline(y=0,linestyle='--',color='gray')\n",
    "plt.axhline(y=-1.96/np.sqrt(len(meter['Seasonal First Difference'])),linestyle='--',color='gray')\n",
    "plt.axhline(y=1.96/np.sqrt(len(meter['Seasonal First Difference'])),linestyle='--',color='gray')\n",
    "plt.title('Autocorrelation Function')"
   ]
  },
  {
   "cell_type": "code",
   "execution_count": 37,
   "metadata": {},
   "outputs": [
    {
     "data": {
      "image/png": "[encoded data removed]",
      "text/plain": [
       "<Figure size 432x288 with 1 Axes>"
      ]
     },
     "metadata": {
      "needs_background": "light"
     },
     "output_type": "display_data"
    }
   ],
   "source": [
    "#Plot PACF:\n",
    "plt.subplot(122)\n",
    "plt.plot(lag_pacf)\n",
    "plt.axhline(y=0,linestyle='--',color='gray')\n",
    "plt.axhline(y=-1.96/np.sqrt(len(meter['Seasonal First Difference'])),linestyle='--',color='gray')\n",
    "plt.axhline(y=1.96/np.sqrt(len(meter['Seasonal First Difference'])),linestyle='--',color='gray')\n",
    "plt.title('Partial Autocorrelation Function')\n",
    "plt.tight_layout()"
   ]
  },
  {
   "cell_type": "code",
   "execution_count": 38,
   "metadata": {},
   "outputs": [],
   "source": [
    "#Hence we got p=0.5, d=1, q=0.5"
   ]
  },
  {
   "cell_type": "code",
   "execution_count": 39,
   "metadata": {
    "scrolled": true
   },
   "outputs": [
    {
     "data": {
      "text/html": [
       "<div>\n",
       "<style scoped>\n",
       "    .dataframe tbody tr th:only-of-type {\n",
       "        vertical-align: middle;\n",
       "    }\n",
       "\n",
       "    .dataframe tbody tr th {\n",
       "        vertical-align: top;\n",
       "    }\n",
       "\n",
       "    .dataframe thead th {\n",
       "        text-align: right;\n",
       "    }\n",
       "</style>\n",
       "<table border=\"1\" class=\"dataframe\">\n",
       "  <thead>\n",
       "    <tr style=\"text-align: right;\">\n",
       "      <th></th>\n",
       "      <th>Energy_Consumption</th>\n",
       "      <th>Seasonal First Difference</th>\n",
       "    </tr>\n",
       "  </thead>\n",
       "  <tbody>\n",
       "    <tr>\n",
       "      <th>2020-03-03</th>\n",
       "      <td>119.70</td>\n",
       "      <td>0.00</td>\n",
       "    </tr>\n",
       "    <tr>\n",
       "      <th>2020-03-04</th>\n",
       "      <td>203.33</td>\n",
       "      <td>83.63</td>\n",
       "    </tr>\n",
       "    <tr>\n",
       "      <th>2020-03-05</th>\n",
       "      <td>200.40</td>\n",
       "      <td>-2.93</td>\n",
       "    </tr>\n",
       "    <tr>\n",
       "      <th>2020-03-06</th>\n",
       "      <td>230.53</td>\n",
       "      <td>30.13</td>\n",
       "    </tr>\n",
       "    <tr>\n",
       "      <th>2020-03-07</th>\n",
       "      <td>224.76</td>\n",
       "      <td>-5.77</td>\n",
       "    </tr>\n",
       "  </tbody>\n",
       "</table>\n",
       "</div>"
      ],
      "text/plain": [
       "            Energy_Consumption  Seasonal First Difference\n",
       "2020-03-03              119.70                       0.00\n",
       "2020-03-04              203.33                      83.63\n",
       "2020-03-05              200.40                      -2.93\n",
       "2020-03-06              230.53                      30.13\n",
       "2020-03-07              224.76                      -5.77"
      ]
     },
     "execution_count": 39,
     "metadata": {},
     "output_type": "execute_result"
    }
   ],
   "source": [
    "meter.head()"
   ]
  },
  {
   "cell_type": "code",
   "execution_count": 40,
   "metadata": {},
   "outputs": [],
   "source": [
    "from statsmodels.tsa.arima_model import ARIMA"
   ]
  },
  {
   "cell_type": "markdown",
   "metadata": {},
   "source": [
    "## AR model"
   ]
  },
  {
   "cell_type": "code",
   "execution_count": 41,
   "metadata": {
    "scrolled": true
   },
   "outputs": [
    {
     "data": {
      "text/plain": [
       "Text(0.5, 1.0, 'RSS: 175757.7520')"
      ]
     },
     "execution_count": 41,
     "metadata": {},
     "output_type": "execute_result"
    },
    {
     "data": {
      "image/png": "[encoded data removed]",
      "text/plain": [
       "<Figure size 432x288 with 1 Axes>"
      ]
     },
     "metadata": {
      "needs_background": "light"
     },
     "output_type": "display_data"
    }
   ],
   "source": [
    "model1 = ARIMA(meter['Energy_Consumption'], order=(1, 1, 0))  \n",
    "results_AR = model1.fit(disp=-1)  \n",
    "plt.plot(meter['Seasonal First Difference'])\n",
    "plt.plot(results_AR.fittedvalues, color='red')\n",
    "meter1=meter.drop(meter.index[0])\n",
    "plt.title('RSS: %.4f'% sum((results_AR.fittedvalues-meter1['Seasonal First Difference'])**2))"
   ]
  },
  {
   "cell_type": "markdown",
   "metadata": {},
   "source": [
    "## MA model"
   ]
  },
  {
   "cell_type": "code",
   "execution_count": 42,
   "metadata": {},
   "outputs": [
    {
     "data": {
      "text/plain": [
       "Text(0.5, 1.0, 'RSS: 161229.9256')"
      ]
     },
     "execution_count": 42,
     "metadata": {},
     "output_type": "execute_result"
    },
    {
     "data": {
      "image/png": "[encoded data removed]",
      "text/plain": [
       "<Figure size 432x288 with 1 Axes>"
      ]
     },
     "metadata": {
      "needs_background": "light"
     },
     "output_type": "display_data"
    }
   ],
   "source": [
    "model2 = ARIMA(meter['Energy_Consumption'], order=(0, 1, 1))  \n",
    "results_MA = model2.fit()  \n",
    "plt.plot(meter['Seasonal First Difference'])\n",
    "plt.plot(results_MA.fittedvalues, color='red')\n",
    "plt.title('RSS: %.4f'% sum((results_MA.fittedvalues-meter1['Seasonal First Difference'])**2))"
   ]
  },
  {
   "cell_type": "markdown",
   "metadata": {},
   "source": [
    "## Combined AR+MA = ARIMA Model"
   ]
  },
  {
   "cell_type": "code",
   "execution_count": 43,
   "metadata": {
    "scrolled": true
   },
   "outputs": [
    {
     "data": {
      "text/plain": [
       "Text(0.5, 1.0, 'RSS: 167057.0286')"
      ]
     },
     "execution_count": 43,
     "metadata": {},
     "output_type": "execute_result"
    },
    {
     "data": {
      "image/png": "[encoded data removed]",
      "text/plain": [
       "<Figure size 432x288 with 1 Axes>"
      ]
     },
     "metadata": {
      "needs_background": "light"
     },
     "output_type": "display_data"
    }
   ],
   "source": [
    "model3 = ARIMA(meter['Energy_Consumption'], order=(2, 1, 0))  \n",
    "results_ARIMA = model3.fit()  \n",
    "plt.plot(meter['Seasonal First Difference'])\n",
    "plt.plot(results_ARIMA.fittedvalues, color='red')\n",
    "plt.title('RSS: %.4f'% sum((results_ARIMA.fittedvalues-meter1['Seasonal First Difference'])**2))"
   ]
  },
  {
   "cell_type": "code",
   "execution_count": 44,
   "metadata": {},
   "outputs": [
    {
     "data": {
      "text/plain": [
       "2020-03-04     0.139175\n",
       "2020-03-05   -36.523869\n",
       "2020-03-06   -17.373037\n",
       "2020-03-07   -15.349681\n",
       "2020-03-08    -3.556032\n",
       "                ...    \n",
       "2020-05-17   -62.084880\n",
       "2020-05-18    56.717419\n",
       "2020-05-19    36.416084\n",
       "2020-05-20   -84.813765\n",
       "2020-05-21     4.693316\n",
       "Freq: D, Length: 79, dtype: float64"
      ]
     },
     "execution_count": 44,
     "metadata": {},
     "output_type": "execute_result"
    }
   ],
   "source": [
    "results_ARIMA.fittedvalues"
   ]
  },
  {
   "cell_type": "code",
   "execution_count": 45,
   "metadata": {},
   "outputs": [
    {
     "data": {
      "text/plain": [
       "-0.6978163624894966"
      ]
     },
     "execution_count": 45,
     "metadata": {},
     "output_type": "execute_result"
    }
   ],
   "source": [
    "(results_ARIMA.fittedvalues-meter1['Seasonal First Difference']).mean()"
   ]
  },
  {
   "cell_type": "code",
   "execution_count": 46,
   "metadata": {},
   "outputs": [
    {
     "data": {
      "text/plain": [
       "0.003449460295321132"
      ]
     },
     "execution_count": 46,
     "metadata": {},
     "output_type": "execute_result"
    }
   ],
   "source": [
    "results_ARIMA.fittedvalues.mean()"
   ]
  },
  {
   "cell_type": "code",
   "execution_count": 47,
   "metadata": {},
   "outputs": [
    {
     "data": {
      "text/plain": [
       "0.7012658227848171"
      ]
     },
     "execution_count": 47,
     "metadata": {},
     "output_type": "execute_result"
    }
   ],
   "source": [
    "meter1['Seasonal First Difference'].mean()"
   ]
  },
  {
   "cell_type": "markdown",
   "metadata": {},
   "source": [
    "## Taking back to Original Scale"
   ]
  },
  {
   "cell_type": "code",
   "execution_count": 48,
   "metadata": {
    "scrolled": false
   },
   "outputs": [
    {
     "data": {
      "text/html": [
       "<div>\n",
       "<style scoped>\n",
       "    .dataframe tbody tr th:only-of-type {\n",
       "        vertical-align: middle;\n",
       "    }\n",
       "\n",
       "    .dataframe tbody tr th {\n",
       "        vertical-align: top;\n",
       "    }\n",
       "\n",
       "    .dataframe thead th {\n",
       "        text-align: right;\n",
       "    }\n",
       "</style>\n",
       "<table border=\"1\" class=\"dataframe\">\n",
       "  <thead>\n",
       "    <tr style=\"text-align: right;\">\n",
       "      <th></th>\n",
       "      <th>0</th>\n",
       "    </tr>\n",
       "  </thead>\n",
       "  <tbody>\n",
       "    <tr>\n",
       "      <th>2020-03-04</th>\n",
       "      <td>0.139175</td>\n",
       "    </tr>\n",
       "    <tr>\n",
       "      <th>2020-03-05</th>\n",
       "      <td>-36.523869</td>\n",
       "    </tr>\n",
       "    <tr>\n",
       "      <th>2020-03-06</th>\n",
       "      <td>-17.373037</td>\n",
       "    </tr>\n",
       "    <tr>\n",
       "      <th>2020-03-07</th>\n",
       "      <td>-15.349681</td>\n",
       "    </tr>\n",
       "    <tr>\n",
       "      <th>2020-03-08</th>\n",
       "      <td>-3.556032</td>\n",
       "    </tr>\n",
       "  </tbody>\n",
       "</table>\n",
       "</div>"
      ],
      "text/plain": [
       "                    0\n",
       "2020-03-04   0.139175\n",
       "2020-03-05 -36.523869\n",
       "2020-03-06 -17.373037\n",
       "2020-03-07 -15.349681\n",
       "2020-03-08  -3.556032"
      ]
     },
     "execution_count": 48,
     "metadata": {},
     "output_type": "execute_result"
    }
   ],
   "source": [
    "#Putting the predicted values as a series\n",
    "predictions_ARIMA_diff = pd.DataFrame(results_ARIMA.fittedvalues, copy=True)\n",
    "predictions_ARIMA_diff.head()"
   ]
  },
  {
   "cell_type": "code",
   "execution_count": 49,
   "metadata": {},
   "outputs": [
    {
     "data": {
      "text/html": [
       "<div>\n",
       "<style scoped>\n",
       "    .dataframe tbody tr th:only-of-type {\n",
       "        vertical-align: middle;\n",
       "    }\n",
       "\n",
       "    .dataframe tbody tr th {\n",
       "        vertical-align: top;\n",
       "    }\n",
       "\n",
       "    .dataframe thead th {\n",
       "        text-align: right;\n",
       "    }\n",
       "</style>\n",
       "<table border=\"1\" class=\"dataframe\">\n",
       "  <thead>\n",
       "    <tr style=\"text-align: right;\">\n",
       "      <th></th>\n",
       "      <th>0</th>\n",
       "    </tr>\n",
       "  </thead>\n",
       "  <tbody>\n",
       "    <tr>\n",
       "      <th>2020-03-04</th>\n",
       "      <td>0.139175</td>\n",
       "    </tr>\n",
       "    <tr>\n",
       "      <th>2020-03-05</th>\n",
       "      <td>-36.384694</td>\n",
       "    </tr>\n",
       "    <tr>\n",
       "      <th>2020-03-06</th>\n",
       "      <td>-53.757731</td>\n",
       "    </tr>\n",
       "    <tr>\n",
       "      <th>2020-03-07</th>\n",
       "      <td>-69.107412</td>\n",
       "    </tr>\n",
       "    <tr>\n",
       "      <th>2020-03-08</th>\n",
       "      <td>-72.663444</td>\n",
       "    </tr>\n",
       "  </tbody>\n",
       "</table>\n",
       "</div>"
      ],
      "text/plain": [
       "                    0\n",
       "2020-03-04   0.139175\n",
       "2020-03-05 -36.384694\n",
       "2020-03-06 -53.757731\n",
       "2020-03-07 -69.107412\n",
       "2020-03-08 -72.663444"
      ]
     },
     "execution_count": 49,
     "metadata": {},
     "output_type": "execute_result"
    }
   ],
   "source": [
    "predictions_ARIMA_diff_cumsum = predictions_ARIMA_diff.cumsum()\n",
    "predictions_ARIMA_diff_cumsum.head()"
   ]
  },
  {
   "cell_type": "code",
   "execution_count": 50,
   "metadata": {
    "scrolled": true
   },
   "outputs": [],
   "source": [
    "predictions_ARIMA_diff_cumsum['original scale']=119+(predictions_ARIMA_diff_cumsum[0])*-1"
   ]
  },
  {
   "cell_type": "code",
   "execution_count": 51,
   "metadata": {},
   "outputs": [
    {
     "data": {
      "text/html": [
       "<div>\n",
       "<style scoped>\n",
       "    .dataframe tbody tr th:only-of-type {\n",
       "        vertical-align: middle;\n",
       "    }\n",
       "\n",
       "    .dataframe tbody tr th {\n",
       "        vertical-align: top;\n",
       "    }\n",
       "\n",
       "    .dataframe thead th {\n",
       "        text-align: right;\n",
       "    }\n",
       "</style>\n",
       "<table border=\"1\" class=\"dataframe\">\n",
       "  <thead>\n",
       "    <tr style=\"text-align: right;\">\n",
       "      <th></th>\n",
       "      <th>0</th>\n",
       "      <th>original scale</th>\n",
       "    </tr>\n",
       "  </thead>\n",
       "  <tbody>\n",
       "    <tr>\n",
       "      <th>2020-03-04</th>\n",
       "      <td>0.139175</td>\n",
       "      <td>118.860825</td>\n",
       "    </tr>\n",
       "    <tr>\n",
       "      <th>2020-03-05</th>\n",
       "      <td>-36.384694</td>\n",
       "      <td>155.384694</td>\n",
       "    </tr>\n",
       "    <tr>\n",
       "      <th>2020-03-06</th>\n",
       "      <td>-53.757731</td>\n",
       "      <td>172.757731</td>\n",
       "    </tr>\n",
       "    <tr>\n",
       "      <th>2020-03-07</th>\n",
       "      <td>-69.107412</td>\n",
       "      <td>188.107412</td>\n",
       "    </tr>\n",
       "    <tr>\n",
       "      <th>2020-03-08</th>\n",
       "      <td>-72.663444</td>\n",
       "      <td>191.663444</td>\n",
       "    </tr>\n",
       "  </tbody>\n",
       "</table>\n",
       "</div>"
      ],
      "text/plain": [
       "                    0  original scale\n",
       "2020-03-04   0.139175      118.860825\n",
       "2020-03-05 -36.384694      155.384694\n",
       "2020-03-06 -53.757731      172.757731\n",
       "2020-03-07 -69.107412      188.107412\n",
       "2020-03-08 -72.663444      191.663444"
      ]
     },
     "execution_count": 51,
     "metadata": {},
     "output_type": "execute_result"
    }
   ],
   "source": [
    "predictions_ARIMA_diff_cumsum.head()"
   ]
  },
  {
   "cell_type": "code",
   "execution_count": 52,
   "metadata": {
    "scrolled": false
   },
   "outputs": [
    {
     "data": {
      "text/html": [
       "<div>\n",
       "<style scoped>\n",
       "    .dataframe tbody tr th:only-of-type {\n",
       "        vertical-align: middle;\n",
       "    }\n",
       "\n",
       "    .dataframe tbody tr th {\n",
       "        vertical-align: top;\n",
       "    }\n",
       "\n",
       "    .dataframe thead th {\n",
       "        text-align: right;\n",
       "    }\n",
       "</style>\n",
       "<table border=\"1\" class=\"dataframe\">\n",
       "  <thead>\n",
       "    <tr style=\"text-align: right;\">\n",
       "      <th></th>\n",
       "      <th>0</th>\n",
       "      <th>original scale</th>\n",
       "    </tr>\n",
       "  </thead>\n",
       "  <tbody>\n",
       "    <tr>\n",
       "      <th>2020-05-17</th>\n",
       "      <td>-12.740546</td>\n",
       "      <td>131.740546</td>\n",
       "    </tr>\n",
       "    <tr>\n",
       "      <th>2020-05-18</th>\n",
       "      <td>43.976873</td>\n",
       "      <td>75.023127</td>\n",
       "    </tr>\n",
       "    <tr>\n",
       "      <th>2020-05-19</th>\n",
       "      <td>80.392957</td>\n",
       "      <td>38.607043</td>\n",
       "    </tr>\n",
       "    <tr>\n",
       "      <th>2020-05-20</th>\n",
       "      <td>-4.420808</td>\n",
       "      <td>123.420808</td>\n",
       "    </tr>\n",
       "    <tr>\n",
       "      <th>2020-05-21</th>\n",
       "      <td>0.272507</td>\n",
       "      <td>118.727493</td>\n",
       "    </tr>\n",
       "  </tbody>\n",
       "</table>\n",
       "</div>"
      ],
      "text/plain": [
       "                    0  original scale\n",
       "2020-05-17 -12.740546      131.740546\n",
       "2020-05-18  43.976873       75.023127\n",
       "2020-05-19  80.392957       38.607043\n",
       "2020-05-20  -4.420808      123.420808\n",
       "2020-05-21   0.272507      118.727493"
      ]
     },
     "execution_count": 52,
     "metadata": {},
     "output_type": "execute_result"
    }
   ],
   "source": [
    "predictions_ARIMA_diff_cumsum.tail()"
   ]
  },
  {
   "cell_type": "code",
   "execution_count": 53,
   "metadata": {
    "scrolled": true
   },
   "outputs": [
    {
     "data": {
      "text/plain": [
       "<matplotlib.axes._subplots.AxesSubplot at 0x21049ea3a88>"
      ]
     },
     "execution_count": 53,
     "metadata": {},
     "output_type": "execute_result"
    },
    {
     "data": {
      "image/png": "[encoded data removed]",
      "text/plain": [
       "<Figure size 720x288 with 1 Axes>"
      ]
     },
     "metadata": {
      "needs_background": "light"
     },
     "output_type": "display_data"
    }
   ],
   "source": [
    "meter['Energy_Consumption'].plot()\n",
    "predictions_ARIMA_diff_cumsum['original scale'].plot(figsize=(10, 4))"
   ]
  },
  {
   "cell_type": "code",
   "execution_count": 54,
   "metadata": {},
   "outputs": [
    {
     "data": {
      "text/plain": [
       "DatetimeIndex(['2020-03-03', '2020-03-04', '2020-03-05', '2020-03-06',\n",
       "               '2020-03-07', '2020-03-08', '2020-03-09', '2020-03-10',\n",
       "               '2020-03-11', '2020-03-12', '2020-03-13', '2020-03-14',\n",
       "               '2020-03-15', '2020-03-16', '2020-03-17', '2020-03-18',\n",
       "               '2020-03-19', '2020-03-20', '2020-03-21', '2020-03-22',\n",
       "               '2020-03-23', '2020-03-24', '2020-03-25', '2020-03-26',\n",
       "               '2020-03-27', '2020-03-28', '2020-03-29', '2020-03-30',\n",
       "               '2020-03-31', '2020-04-01', '2020-04-02', '2020-04-03',\n",
       "               '2020-04-04', '2020-04-05', '2020-04-06', '2020-04-07',\n",
       "               '2020-04-08', '2020-04-09', '2020-04-10', '2020-04-11',\n",
       "               '2020-04-12', '2020-04-13', '2020-04-14', '2020-04-15',\n",
       "               '2020-04-16', '2020-04-17', '2020-04-18', '2020-04-19',\n",
       "               '2020-04-20', '2020-04-21', '2020-04-22', '2020-04-23',\n",
       "               '2020-04-24', '2020-04-25', '2020-04-26', '2020-04-27',\n",
       "               '2020-04-28', '2020-04-29', '2020-04-30', '2020-05-01',\n",
       "               '2020-05-02', '2020-05-03', '2020-05-04', '2020-05-05',\n",
       "               '2020-05-06', '2020-05-07', '2020-05-08', '2020-05-09',\n",
       "               '2020-05-10', '2020-05-11', '2020-05-12', '2020-05-13',\n",
       "               '2020-05-14', '2020-05-15', '2020-05-16', '2020-05-17',\n",
       "               '2020-05-18', '2020-05-19', '2020-05-20', '2020-05-21'],\n",
       "              dtype='datetime64[ns]', freq='D')"
      ]
     },
     "execution_count": 54,
     "metadata": {},
     "output_type": "execute_result"
    }
   ],
   "source": [
    "meter.index"
   ]
  },
  {
   "cell_type": "code",
   "execution_count": 55,
   "metadata": {},
   "outputs": [],
   "source": [
    "from pandas.tseries.offsets import DateOffset\n",
    "future_dates1=[meter.index[-1]+ DateOffset(days=x)for x in range(0,30)]"
   ]
  },
  {
   "cell_type": "code",
   "execution_count": 56,
   "metadata": {
    "scrolled": false
   },
   "outputs": [
    {
     "name": "stdout",
     "output_type": "stream",
     "text": [
      "Examples of parameter combinations for Seasonal ARIMA...\n",
      "SARIMAX: (0, 0, 1) x (0, 0, 1, 7)\n",
      "SARIMAX: (0, 0, 1) x (0, 1, 0, 7)\n",
      "SARIMAX: (0, 1, 0) x (0, 1, 1, 7)\n",
      "SARIMAX: (0, 1, 0) x (1, 0, 0, 7)\n"
     ]
    }
   ],
   "source": [
    "import itertools\n",
    "# Define the p, d and q parameters to take any value between 0 and 2\n",
    "p = d = q = range(0, 2)\n",
    "\n",
    "# Generate all different combinations of p, q and q triplets\n",
    "pdq = list(itertools.product(p, d, q))\n",
    "\n",
    "# Generate all different combinations of seasonal p, q and q triplets\n",
    "seasonal_pdq = [(x[0], x[1], x[2], 7) for x in list(itertools.product(p, d, q))]\n",
    "\n",
    "print('Examples of parameter combinations for Seasonal ARIMA...')\n",
    "print('SARIMAX: {} x {}'.format(pdq[1], seasonal_pdq[1]))\n",
    "print('SARIMAX: {} x {}'.format(pdq[1], seasonal_pdq[2]))\n",
    "print('SARIMAX: {} x {}'.format(pdq[2], seasonal_pdq[3]))\n",
    "print('SARIMAX: {} x {}'.format(pdq[2], seasonal_pdq[4]))"
   ]
  },
  {
   "cell_type": "code",
   "execution_count": 57,
   "metadata": {},
   "outputs": [
    {
     "name": "stdout",
     "output_type": "stream",
     "text": [
      "ARIMA(0, 0, 0)x(0, 0, 0, 7)7 - AIC:986.4067195805228\n",
      "ARIMA(0, 0, 0)x(0, 0, 1, 7)7 - AIC:844.3041271474519\n",
      "ARIMA(0, 0, 0)x(0, 1, 0, 7)7 - AIC:788.1061803908933\n",
      "ARIMA(0, 0, 0)x(0, 1, 1, 7)7 - AIC:711.0550031594637\n",
      "ARIMA(0, 0, 0)x(1, 0, 0, 7)7 - AIC:791.50805351122\n",
      "ARIMA(0, 0, 0)x(1, 0, 1, 7)7 - AIC:782.6669293295307\n",
      "ARIMA(0, 0, 0)x(1, 1, 0, 7)7 - AIC:727.65966239026\n",
      "ARIMA(0, 0, 0)x(1, 1, 1, 7)7 - AIC:714.3001012319703\n",
      "ARIMA(0, 0, 1)x(0, 0, 0, 7)7 - AIC:917.2770660094411\n",
      "ARIMA(0, 0, 1)x(0, 0, 1, 7)7 - AIC:789.8379040123147\n",
      "ARIMA(0, 0, 1)x(0, 1, 0, 7)7 - AIC:753.0713669267179\n",
      "ARIMA(0, 0, 1)x(0, 1, 1, 7)7 - AIC:677.6524240016865\n",
      "ARIMA(0, 0, 1)x(1, 0, 0, 7)7 - AIC:767.4084555310866\n",
      "ARIMA(0, 0, 1)x(1, 0, 1, 7)7 - AIC:747.3903758009634\n",
      "ARIMA(0, 0, 1)x(1, 1, 0, 7)7 - AIC:704.9133484606499\n",
      "ARIMA(0, 0, 1)x(1, 1, 1, 7)7 - AIC:679.5278486951574\n",
      "ARIMA(0, 1, 0)x(0, 0, 0, 7)7 - AIC:838.8626554951817\n",
      "ARIMA(0, 1, 0)x(0, 0, 1, 7)7 - AIC:738.9433333486912\n",
      "ARIMA(0, 1, 0)x(0, 1, 0, 7)7 - AIC:748.9589920605586\n",
      "ARIMA(0, 1, 0)x(0, 1, 1, 7)7 - AIC:669.3511975753374\n",
      "ARIMA(0, 1, 0)x(1, 0, 0, 7)7 - AIC:751.6144747126551\n",
      "ARIMA(0, 1, 0)x(1, 0, 1, 7)7 - AIC:736.0229773606682\n",
      "ARIMA(0, 1, 0)x(1, 1, 0, 7)7 - AIC:687.3051916363235\n",
      "ARIMA(0, 1, 0)x(1, 1, 1, 7)7 - AIC:670.8764240029594\n",
      "ARIMA(0, 1, 1)x(0, 0, 0, 7)7 - AIC:807.0389900086428\n",
      "ARIMA(0, 1, 1)x(0, 0, 1, 7)7 - AIC:714.7786611549307\n",
      "ARIMA(0, 1, 1)x(0, 1, 0, 7)7 - AIC:733.8921680273761\n",
      "ARIMA(0, 1, 1)x(0, 1, 1, 7)7 - AIC:652.8349637543623\n",
      "ARIMA(0, 1, 1)x(1, 0, 0, 7)7 - AIC:742.7909387767247\n",
      "ARIMA(0, 1, 1)x(1, 0, 1, 7)7 - AIC:715.5925677826145\n",
      "ARIMA(0, 1, 1)x(1, 1, 0, 7)7 - AIC:680.1570253596008\n",
      "ARIMA(0, 1, 1)x(1, 1, 1, 7)7 - AIC:654.5881125271214\n",
      "ARIMA(1, 0, 0)x(0, 0, 0, 7)7 - AIC:850.0407545536888\n",
      "ARIMA(1, 0, 0)x(0, 0, 1, 7)7 - AIC:757.7351944115576\n",
      "ARIMA(1, 0, 0)x(0, 1, 0, 7)7 - AIC:750.5633087495548\n",
      "ARIMA(1, 0, 0)x(0, 1, 1, 7)7 - AIC:675.2057731971452\n",
      "ARIMA(1, 0, 0)x(1, 0, 0, 7)7 - AIC:744.2024575568828\n",
      "ARIMA(1, 0, 0)x(1, 0, 1, 7)7 - AIC:745.4945311366926\n",
      "ARIMA(1, 0, 0)x(1, 1, 0, 7)7 - AIC:675.5011198074782\n",
      "ARIMA(1, 0, 0)x(1, 1, 1, 7)7 - AIC:677.2023188483292\n",
      "ARIMA(1, 0, 1)x(0, 0, 0, 7)7 - AIC:817.2431914785823\n",
      "ARIMA(1, 0, 1)x(0, 0, 1, 7)7 - AIC:724.6202989870711\n",
      "ARIMA(1, 0, 1)x(0, 1, 0, 7)7 - AIC:739.057438947706\n",
      "ARIMA(1, 0, 1)x(0, 1, 1, 7)7 - AIC:661.6962376490485\n",
      "ARIMA(1, 0, 1)x(1, 0, 0, 7)7 - AIC:742.8879308130937\n",
      "ARIMA(1, 0, 1)x(1, 0, 1, 7)7 - AIC:724.5633094211925\n",
      "ARIMA(1, 0, 1)x(1, 1, 0, 7)7 - AIC:675.172112236983\n",
      "ARIMA(1, 0, 1)x(1, 1, 1, 7)7 - AIC:662.9700993794206\n",
      "ARIMA(1, 1, 0)x(0, 0, 0, 7)7 - AIC:824.3583665606433\n",
      "ARIMA(1, 1, 0)x(0, 0, 1, 7)7 - AIC:731.9575397278934\n",
      "ARIMA(1, 1, 0)x(0, 1, 0, 7)7 - AIC:745.2009250699456\n",
      "ARIMA(1, 1, 0)x(0, 1, 1, 7)7 - AIC:665.4527053187572\n",
      "ARIMA(1, 1, 0)x(1, 0, 0, 7)7 - AIC:728.8817203961047\n",
      "ARIMA(1, 1, 0)x(1, 0, 1, 7)7 - AIC:730.2765965211447\n",
      "ARIMA(1, 1, 0)x(1, 1, 0, 7)7 - AIC:666.1157005091437\n",
      "ARIMA(1, 1, 0)x(1, 1, 1, 7)7 - AIC:667.0286929780943\n",
      "ARIMA(1, 1, 1)x(0, 0, 0, 7)7 - AIC:809.0386829963242\n",
      "ARIMA(1, 1, 1)x(0, 0, 1, 7)7 - AIC:715.8398722661019\n",
      "ARIMA(1, 1, 1)x(0, 1, 0, 7)7 - AIC:733.2083725557414\n",
      "ARIMA(1, 1, 1)x(0, 1, 1, 7)7 - AIC:654.7863865075748\n",
      "ARIMA(1, 1, 1)x(1, 0, 0, 7)7 - AIC:725.8130904237845\n",
      "ARIMA(1, 1, 1)x(1, 0, 1, 7)7 - AIC:717.0092586445763\n",
      "ARIMA(1, 1, 1)x(1, 1, 0, 7)7 - AIC:667.1177043264761\n",
      "ARIMA(1, 1, 1)x(1, 1, 1, 7)7 - AIC:656.43094273381\n"
     ]
    }
   ],
   "source": [
    "import statsmodels.api as sm\n",
    "warnings.filterwarnings(\"ignore\") # specify to ignore warning messages\n",
    "\n",
    "for param in pdq:\n",
    "    for param_seasonal in seasonal_pdq:\n",
    "        try:\n",
    "            mod = sm.tsa.statespace.SARIMAX(meter['Energy_Consumption'],\n",
    "                                            order=param,\n",
    "                                            seasonal_order=param_seasonal,\n",
    "                                            enforce_stationarity=False,\n",
    "                                            enforce_invertibility=False)\n",
    "\n",
    "            results = mod.fit()\n",
    "\n",
    "            print('ARIMA{}x{}7 - AIC:{}'.format(param, param_seasonal, results.aic))\n",
    "        except:\n",
    "            continue"
   ]
  },
  {
   "cell_type": "code",
   "execution_count": 58,
   "metadata": {},
   "outputs": [
    {
     "name": "stdout",
     "output_type": "stream",
     "text": [
      "==============================================================================\n",
      "                 coef    std err          z      P>|z|      [0.025      0.975]\n",
      "------------------------------------------------------------------------------\n",
      "ma.L1         -0.4527      0.085     -5.309      0.000      -0.620      -0.286\n",
      "ar.S.L7        0.1369      0.434      0.315      0.752      -0.714       0.988\n",
      "ma.S.L7       -0.4971      0.416     -1.195      0.232      -1.312       0.318\n",
      "sigma2      1808.8844    273.783      6.607      0.000    1272.279    2345.490\n",
      "==============================================================================\n"
     ]
    }
   ],
   "source": [
    "model4 = sm.tsa.statespace.SARIMAX(meter['Energy_Consumption'],\n",
    "                                order=(0, 1, 1),\n",
    "                                seasonal_order=(1, 1, 1, 7))\n",
    "\n",
    "results22 = model4.fit()\n",
    "\n",
    "print(results22.summary().tables[1])"
   ]
  },
  {
   "cell_type": "code",
   "execution_count": 59,
   "metadata": {},
   "outputs": [
    {
     "data": {
      "image/png": "[encoded data removed]",
      "text/plain": [
       "<Figure size 1080x864 with 4 Axes>"
      ]
     },
     "metadata": {
      "needs_background": "light"
     },
     "output_type": "display_data"
    }
   ],
   "source": [
    "results22.plot_diagnostics(figsize=(15, 12))\n",
    "plt.show()"
   ]
  },
  {
   "cell_type": "markdown",
   "metadata": {},
   "source": [
    "#### Those observations lead us to conclude that our model produces a satisfactory fit \n",
    "##### that could help us understand our time series data and forecast future values."
   ]
  },
  {
   "cell_type": "code",
   "execution_count": 60,
   "metadata": {},
   "outputs": [
    {
     "data": {
      "text/html": [
       "<div>\n",
       "<style scoped>\n",
       "    .dataframe tbody tr th:only-of-type {\n",
       "        vertical-align: middle;\n",
       "    }\n",
       "\n",
       "    .dataframe tbody tr th {\n",
       "        vertical-align: top;\n",
       "    }\n",
       "\n",
       "    .dataframe thead th {\n",
       "        text-align: right;\n",
       "    }\n",
       "</style>\n",
       "<table border=\"1\" class=\"dataframe\">\n",
       "  <thead>\n",
       "    <tr style=\"text-align: right;\">\n",
       "      <th></th>\n",
       "      <th>Energy_Consumption</th>\n",
       "      <th>Seasonal First Difference</th>\n",
       "    </tr>\n",
       "  </thead>\n",
       "  <tbody>\n",
       "    <tr>\n",
       "      <th>2020-03-03</th>\n",
       "      <td>119.70</td>\n",
       "      <td>0.00</td>\n",
       "    </tr>\n",
       "    <tr>\n",
       "      <th>2020-03-04</th>\n",
       "      <td>203.33</td>\n",
       "      <td>83.63</td>\n",
       "    </tr>\n",
       "    <tr>\n",
       "      <th>2020-03-05</th>\n",
       "      <td>200.40</td>\n",
       "      <td>-2.93</td>\n",
       "    </tr>\n",
       "    <tr>\n",
       "      <th>2020-03-06</th>\n",
       "      <td>230.53</td>\n",
       "      <td>30.13</td>\n",
       "    </tr>\n",
       "    <tr>\n",
       "      <th>2020-03-07</th>\n",
       "      <td>224.76</td>\n",
       "      <td>-5.77</td>\n",
       "    </tr>\n",
       "    <tr>\n",
       "      <th>...</th>\n",
       "      <td>...</td>\n",
       "      <td>...</td>\n",
       "    </tr>\n",
       "    <tr>\n",
       "      <th>2020-05-17</th>\n",
       "      <td>51.32</td>\n",
       "      <td>-155.23</td>\n",
       "    </tr>\n",
       "    <tr>\n",
       "      <th>2020-05-18</th>\n",
       "      <td>50.34</td>\n",
       "      <td>-0.98</td>\n",
       "    </tr>\n",
       "    <tr>\n",
       "      <th>2020-05-19</th>\n",
       "      <td>208.29</td>\n",
       "      <td>157.95</td>\n",
       "    </tr>\n",
       "    <tr>\n",
       "      <th>2020-05-20</th>\n",
       "      <td>132.89</td>\n",
       "      <td>-75.40</td>\n",
       "    </tr>\n",
       "    <tr>\n",
       "      <th>2020-05-21</th>\n",
       "      <td>175.10</td>\n",
       "      <td>42.21</td>\n",
       "    </tr>\n",
       "  </tbody>\n",
       "</table>\n",
       "<p>80 rows × 2 columns</p>\n",
       "</div>"
      ],
      "text/plain": [
       "            Energy_Consumption  Seasonal First Difference\n",
       "2020-03-03              119.70                       0.00\n",
       "2020-03-04              203.33                      83.63\n",
       "2020-03-05              200.40                      -2.93\n",
       "2020-03-06              230.53                      30.13\n",
       "2020-03-07              224.76                      -5.77\n",
       "...                        ...                        ...\n",
       "2020-05-17               51.32                    -155.23\n",
       "2020-05-18               50.34                      -0.98\n",
       "2020-05-19              208.29                     157.95\n",
       "2020-05-20              132.89                     -75.40\n",
       "2020-05-21              175.10                      42.21\n",
       "\n",
       "[80 rows x 2 columns]"
      ]
     },
     "execution_count": 60,
     "metadata": {},
     "output_type": "execute_result"
    }
   ],
   "source": [
    "meter"
   ]
  },
  {
   "cell_type": "code",
   "execution_count": 61,
   "metadata": {
    "scrolled": false
   },
   "outputs": [
    {
     "data": {
      "text/plain": [
       "<matplotlib.axes._subplots.AxesSubplot at 0x2104d3eba88>"
      ]
     },
     "execution_count": 61,
     "metadata": {},
     "output_type": "execute_result"
    },
    {
     "data": {
      "image/png": "[encoded data removed]",
      "text/plain": [
       "<Figure size 720x360 with 1 Axes>"
      ]
     },
     "metadata": {
      "needs_background": "light"
     },
     "output_type": "display_data"
    }
   ],
   "source": [
    "meter['forecast1']=results22.predict(start=1,end=78,dynamic=False)\n",
    "meter[['Energy_Consumption','forecast1']].plot(figsize=(10,5))"
   ]
  },
  {
   "cell_type": "code",
   "execution_count": 62,
   "metadata": {
    "scrolled": true
   },
   "outputs": [
    {
     "data": {
      "text/plain": [
       "[Timestamp('2020-05-21 00:00:00'),\n",
       " Timestamp('2020-05-22 00:00:00'),\n",
       " Timestamp('2020-05-23 00:00:00'),\n",
       " Timestamp('2020-05-24 00:00:00'),\n",
       " Timestamp('2020-05-25 00:00:00'),\n",
       " Timestamp('2020-05-26 00:00:00'),\n",
       " Timestamp('2020-05-27 00:00:00'),\n",
       " Timestamp('2020-05-28 00:00:00'),\n",
       " Timestamp('2020-05-29 00:00:00'),\n",
       " Timestamp('2020-05-30 00:00:00'),\n",
       " Timestamp('2020-05-31 00:00:00'),\n",
       " Timestamp('2020-06-01 00:00:00'),\n",
       " Timestamp('2020-06-02 00:00:00'),\n",
       " Timestamp('2020-06-03 00:00:00'),\n",
       " Timestamp('2020-06-04 00:00:00'),\n",
       " Timestamp('2020-06-05 00:00:00'),\n",
       " Timestamp('2020-06-06 00:00:00'),\n",
       " Timestamp('2020-06-07 00:00:00'),\n",
       " Timestamp('2020-06-08 00:00:00'),\n",
       " Timestamp('2020-06-09 00:00:00'),\n",
       " Timestamp('2020-06-10 00:00:00'),\n",
       " Timestamp('2020-06-11 00:00:00'),\n",
       " Timestamp('2020-06-12 00:00:00'),\n",
       " Timestamp('2020-06-13 00:00:00'),\n",
       " Timestamp('2020-06-14 00:00:00'),\n",
       " Timestamp('2020-06-15 00:00:00'),\n",
       " Timestamp('2020-06-16 00:00:00'),\n",
       " Timestamp('2020-06-17 00:00:00'),\n",
       " Timestamp('2020-06-18 00:00:00'),\n",
       " Timestamp('2020-06-19 00:00:00')]"
      ]
     },
     "execution_count": 62,
     "metadata": {},
     "output_type": "execute_result"
    }
   ],
   "source": [
    "future_dates1"
   ]
  },
  {
   "cell_type": "code",
   "execution_count": 63,
   "metadata": {
    "scrolled": true
   },
   "outputs": [
    {
     "data": {
      "text/html": [
       "<div>\n",
       "<style scoped>\n",
       "    .dataframe tbody tr th:only-of-type {\n",
       "        vertical-align: middle;\n",
       "    }\n",
       "\n",
       "    .dataframe tbody tr th {\n",
       "        vertical-align: top;\n",
       "    }\n",
       "\n",
       "    .dataframe thead th {\n",
       "        text-align: right;\n",
       "    }\n",
       "</style>\n",
       "<table border=\"1\" class=\"dataframe\">\n",
       "  <thead>\n",
       "    <tr style=\"text-align: right;\">\n",
       "      <th></th>\n",
       "      <th>Energy_Consumption</th>\n",
       "      <th>Seasonal First Difference</th>\n",
       "      <th>forecast1</th>\n",
       "    </tr>\n",
       "  </thead>\n",
       "  <tbody>\n",
       "    <tr>\n",
       "      <th>2020-05-22</th>\n",
       "      <td>NaN</td>\n",
       "      <td>NaN</td>\n",
       "      <td>NaN</td>\n",
       "    </tr>\n",
       "    <tr>\n",
       "      <th>2020-05-23</th>\n",
       "      <td>NaN</td>\n",
       "      <td>NaN</td>\n",
       "      <td>NaN</td>\n",
       "    </tr>\n",
       "    <tr>\n",
       "      <th>2020-05-24</th>\n",
       "      <td>NaN</td>\n",
       "      <td>NaN</td>\n",
       "      <td>NaN</td>\n",
       "    </tr>\n",
       "    <tr>\n",
       "      <th>2020-05-25</th>\n",
       "      <td>NaN</td>\n",
       "      <td>NaN</td>\n",
       "      <td>NaN</td>\n",
       "    </tr>\n",
       "    <tr>\n",
       "      <th>2020-05-26</th>\n",
       "      <td>NaN</td>\n",
       "      <td>NaN</td>\n",
       "      <td>NaN</td>\n",
       "    </tr>\n",
       "  </tbody>\n",
       "</table>\n",
       "</div>"
      ],
      "text/plain": [
       "           Energy_Consumption Seasonal First Difference forecast1\n",
       "2020-05-22                NaN                       NaN       NaN\n",
       "2020-05-23                NaN                       NaN       NaN\n",
       "2020-05-24                NaN                       NaN       NaN\n",
       "2020-05-25                NaN                       NaN       NaN\n",
       "2020-05-26                NaN                       NaN       NaN"
      ]
     },
     "execution_count": 63,
     "metadata": {},
     "output_type": "execute_result"
    }
   ],
   "source": [
    "future_dates_df1=pd.DataFrame(index=future_dates1[1:],columns=meter.columns)\n",
    "future_dates_df1.head()"
   ]
  },
  {
   "cell_type": "code",
   "execution_count": 64,
   "metadata": {},
   "outputs": [
    {
     "data": {
      "text/html": [
       "<div>\n",
       "<style scoped>\n",
       "    .dataframe tbody tr th:only-of-type {\n",
       "        vertical-align: middle;\n",
       "    }\n",
       "\n",
       "    .dataframe tbody tr th {\n",
       "        vertical-align: top;\n",
       "    }\n",
       "\n",
       "    .dataframe thead th {\n",
       "        text-align: right;\n",
       "    }\n",
       "</style>\n",
       "<table border=\"1\" class=\"dataframe\">\n",
       "  <thead>\n",
       "    <tr style=\"text-align: right;\">\n",
       "      <th></th>\n",
       "      <th>Energy_Consumption</th>\n",
       "      <th>Seasonal First Difference</th>\n",
       "      <th>forecast1</th>\n",
       "    </tr>\n",
       "  </thead>\n",
       "  <tbody>\n",
       "    <tr>\n",
       "      <th>2020-03-03</th>\n",
       "      <td>119.70</td>\n",
       "      <td>0.00</td>\n",
       "      <td>NaN</td>\n",
       "    </tr>\n",
       "    <tr>\n",
       "      <th>2020-03-04</th>\n",
       "      <td>203.33</td>\n",
       "      <td>83.63</td>\n",
       "      <td>119.644573</td>\n",
       "    </tr>\n",
       "    <tr>\n",
       "      <th>2020-03-05</th>\n",
       "      <td>200.40</td>\n",
       "      <td>-2.93</td>\n",
       "      <td>203.252595</td>\n",
       "    </tr>\n",
       "    <tr>\n",
       "      <th>2020-03-06</th>\n",
       "      <td>230.53</td>\n",
       "      <td>30.13</td>\n",
       "      <td>200.402639</td>\n",
       "    </tr>\n",
       "    <tr>\n",
       "      <th>2020-03-07</th>\n",
       "      <td>224.76</td>\n",
       "      <td>-5.77</td>\n",
       "      <td>230.502134</td>\n",
       "    </tr>\n",
       "    <tr>\n",
       "      <th>2020-03-08</th>\n",
       "      <td>135.55</td>\n",
       "      <td>-89.21</td>\n",
       "      <td>224.765311</td>\n",
       "    </tr>\n",
       "    <tr>\n",
       "      <th>2020-03-09</th>\n",
       "      <td>186.01</td>\n",
       "      <td>50.46</td>\n",
       "      <td>135.649278</td>\n",
       "    </tr>\n",
       "    <tr>\n",
       "      <th>2020-03-10</th>\n",
       "      <td>80.15</td>\n",
       "      <td>-105.86</td>\n",
       "      <td>245.834344</td>\n",
       "    </tr>\n",
       "    <tr>\n",
       "      <th>2020-03-11</th>\n",
       "      <td>247.69</td>\n",
       "      <td>167.54</td>\n",
       "      <td>163.993411</td>\n",
       "    </tr>\n",
       "    <tr>\n",
       "      <th>2020-03-12</th>\n",
       "      <td>229.24</td>\n",
       "      <td>-18.45</td>\n",
       "      <td>213.336948</td>\n",
       "    </tr>\n",
       "  </tbody>\n",
       "</table>\n",
       "</div>"
      ],
      "text/plain": [
       "            Energy_Consumption  Seasonal First Difference   forecast1\n",
       "2020-03-03              119.70                       0.00         NaN\n",
       "2020-03-04              203.33                      83.63  119.644573\n",
       "2020-03-05              200.40                      -2.93  203.252595\n",
       "2020-03-06              230.53                      30.13  200.402639\n",
       "2020-03-07              224.76                      -5.77  230.502134\n",
       "2020-03-08              135.55                     -89.21  224.765311\n",
       "2020-03-09              186.01                      50.46  135.649278\n",
       "2020-03-10               80.15                    -105.86  245.834344\n",
       "2020-03-11              247.69                     167.54  163.993411\n",
       "2020-03-12              229.24                     -18.45  213.336948"
      ]
     },
     "execution_count": 64,
     "metadata": {},
     "output_type": "execute_result"
    }
   ],
   "source": [
    "meter.head(10)"
   ]
  },
  {
   "cell_type": "code",
   "execution_count": 65,
   "metadata": {
    "scrolled": true
   },
   "outputs": [
    {
     "data": {
      "text/html": [
       "<div>\n",
       "<style scoped>\n",
       "    .dataframe tbody tr th:only-of-type {\n",
       "        vertical-align: middle;\n",
       "    }\n",
       "\n",
       "    .dataframe tbody tr th {\n",
       "        vertical-align: top;\n",
       "    }\n",
       "\n",
       "    .dataframe thead th {\n",
       "        text-align: right;\n",
       "    }\n",
       "</style>\n",
       "<table border=\"1\" class=\"dataframe\">\n",
       "  <thead>\n",
       "    <tr style=\"text-align: right;\">\n",
       "      <th></th>\n",
       "      <th>Energy_Consumption</th>\n",
       "      <th>Seasonal First Difference</th>\n",
       "      <th>forecast1</th>\n",
       "    </tr>\n",
       "  </thead>\n",
       "  <tbody>\n",
       "    <tr>\n",
       "      <th>2020-03-03</th>\n",
       "      <td>119.70</td>\n",
       "      <td>0.00</td>\n",
       "      <td>NaN</td>\n",
       "    </tr>\n",
       "    <tr>\n",
       "      <th>2020-03-04</th>\n",
       "      <td>203.33</td>\n",
       "      <td>83.63</td>\n",
       "      <td>119.644573</td>\n",
       "    </tr>\n",
       "    <tr>\n",
       "      <th>2020-03-05</th>\n",
       "      <td>200.40</td>\n",
       "      <td>-2.93</td>\n",
       "      <td>203.252595</td>\n",
       "    </tr>\n",
       "    <tr>\n",
       "      <th>2020-03-06</th>\n",
       "      <td>230.53</td>\n",
       "      <td>30.13</td>\n",
       "      <td>200.402639</td>\n",
       "    </tr>\n",
       "    <tr>\n",
       "      <th>2020-03-07</th>\n",
       "      <td>224.76</td>\n",
       "      <td>-5.77</td>\n",
       "      <td>230.502134</td>\n",
       "    </tr>\n",
       "    <tr>\n",
       "      <th>...</th>\n",
       "      <td>...</td>\n",
       "      <td>...</td>\n",
       "      <td>...</td>\n",
       "    </tr>\n",
       "    <tr>\n",
       "      <th>2020-05-15</th>\n",
       "      <td>87.45</td>\n",
       "      <td>-8.61</td>\n",
       "      <td>97.414473</td>\n",
       "    </tr>\n",
       "    <tr>\n",
       "      <th>2020-05-16</th>\n",
       "      <td>206.55</td>\n",
       "      <td>119.10</td>\n",
       "      <td>98.881167</td>\n",
       "    </tr>\n",
       "    <tr>\n",
       "      <th>2020-05-17</th>\n",
       "      <td>51.32</td>\n",
       "      <td>-155.23</td>\n",
       "      <td>148.298681</td>\n",
       "    </tr>\n",
       "    <tr>\n",
       "      <th>2020-05-18</th>\n",
       "      <td>50.34</td>\n",
       "      <td>-0.98</td>\n",
       "      <td>99.102345</td>\n",
       "    </tr>\n",
       "    <tr>\n",
       "      <th>2020-05-19</th>\n",
       "      <td>208.29</td>\n",
       "      <td>157.95</td>\n",
       "      <td>139.562019</td>\n",
       "    </tr>\n",
       "  </tbody>\n",
       "</table>\n",
       "<p>78 rows × 3 columns</p>\n",
       "</div>"
      ],
      "text/plain": [
       "            Energy_Consumption  Seasonal First Difference   forecast1\n",
       "2020-03-03              119.70                       0.00         NaN\n",
       "2020-03-04              203.33                      83.63  119.644573\n",
       "2020-03-05              200.40                      -2.93  203.252595\n",
       "2020-03-06              230.53                      30.13  200.402639\n",
       "2020-03-07              224.76                      -5.77  230.502134\n",
       "...                        ...                        ...         ...\n",
       "2020-05-15               87.45                      -8.61   97.414473\n",
       "2020-05-16              206.55                     119.10   98.881167\n",
       "2020-05-17               51.32                    -155.23  148.298681\n",
       "2020-05-18               50.34                      -0.98   99.102345\n",
       "2020-05-19              208.29                     157.95  139.562019\n",
       "\n",
       "[78 rows x 3 columns]"
      ]
     },
     "execution_count": 65,
     "metadata": {},
     "output_type": "execute_result"
    }
   ],
   "source": [
    "future1=pd.concat([meter,future_dates_df1])\n",
    "future1[:78]"
   ]
  },
  {
   "cell_type": "code",
   "execution_count": 66,
   "metadata": {
    "scrolled": true
   },
   "outputs": [
    {
     "data": {
      "text/html": [
       "<div>\n",
       "<style scoped>\n",
       "    .dataframe tbody tr th:only-of-type {\n",
       "        vertical-align: middle;\n",
       "    }\n",
       "\n",
       "    .dataframe tbody tr th {\n",
       "        vertical-align: top;\n",
       "    }\n",
       "\n",
       "    .dataframe thead th {\n",
       "        text-align: right;\n",
       "    }\n",
       "</style>\n",
       "<table border=\"1\" class=\"dataframe\">\n",
       "  <thead>\n",
       "    <tr style=\"text-align: right;\">\n",
       "      <th></th>\n",
       "      <th>Energy_Consumption</th>\n",
       "      <th>Seasonal First Difference</th>\n",
       "      <th>forecast1</th>\n",
       "    </tr>\n",
       "  </thead>\n",
       "  <tbody>\n",
       "    <tr>\n",
       "      <th>2020-05-20</th>\n",
       "      <td>132.89</td>\n",
       "      <td>-75.40</td>\n",
       "      <td>157.825136</td>\n",
       "    </tr>\n",
       "    <tr>\n",
       "      <th>2020-05-21</th>\n",
       "      <td>175.10</td>\n",
       "      <td>42.21</td>\n",
       "      <td>NaN</td>\n",
       "    </tr>\n",
       "    <tr>\n",
       "      <th>2020-05-22</th>\n",
       "      <td>NaN</td>\n",
       "      <td>NaN</td>\n",
       "      <td>NaN</td>\n",
       "    </tr>\n",
       "    <tr>\n",
       "      <th>2020-05-23</th>\n",
       "      <td>NaN</td>\n",
       "      <td>NaN</td>\n",
       "      <td>NaN</td>\n",
       "    </tr>\n",
       "    <tr>\n",
       "      <th>2020-05-24</th>\n",
       "      <td>NaN</td>\n",
       "      <td>NaN</td>\n",
       "      <td>NaN</td>\n",
       "    </tr>\n",
       "    <tr>\n",
       "      <th>2020-05-25</th>\n",
       "      <td>NaN</td>\n",
       "      <td>NaN</td>\n",
       "      <td>NaN</td>\n",
       "    </tr>\n",
       "    <tr>\n",
       "      <th>2020-05-26</th>\n",
       "      <td>NaN</td>\n",
       "      <td>NaN</td>\n",
       "      <td>NaN</td>\n",
       "    </tr>\n",
       "    <tr>\n",
       "      <th>2020-05-27</th>\n",
       "      <td>NaN</td>\n",
       "      <td>NaN</td>\n",
       "      <td>NaN</td>\n",
       "    </tr>\n",
       "    <tr>\n",
       "      <th>2020-05-28</th>\n",
       "      <td>NaN</td>\n",
       "      <td>NaN</td>\n",
       "      <td>NaN</td>\n",
       "    </tr>\n",
       "    <tr>\n",
       "      <th>2020-05-29</th>\n",
       "      <td>NaN</td>\n",
       "      <td>NaN</td>\n",
       "      <td>NaN</td>\n",
       "    </tr>\n",
       "    <tr>\n",
       "      <th>2020-05-30</th>\n",
       "      <td>NaN</td>\n",
       "      <td>NaN</td>\n",
       "      <td>NaN</td>\n",
       "    </tr>\n",
       "    <tr>\n",
       "      <th>2020-05-31</th>\n",
       "      <td>NaN</td>\n",
       "      <td>NaN</td>\n",
       "      <td>NaN</td>\n",
       "    </tr>\n",
       "    <tr>\n",
       "      <th>2020-06-01</th>\n",
       "      <td>NaN</td>\n",
       "      <td>NaN</td>\n",
       "      <td>NaN</td>\n",
       "    </tr>\n",
       "    <tr>\n",
       "      <th>2020-06-02</th>\n",
       "      <td>NaN</td>\n",
       "      <td>NaN</td>\n",
       "      <td>NaN</td>\n",
       "    </tr>\n",
       "    <tr>\n",
       "      <th>2020-06-03</th>\n",
       "      <td>NaN</td>\n",
       "      <td>NaN</td>\n",
       "      <td>NaN</td>\n",
       "    </tr>\n",
       "    <tr>\n",
       "      <th>2020-06-04</th>\n",
       "      <td>NaN</td>\n",
       "      <td>NaN</td>\n",
       "      <td>NaN</td>\n",
       "    </tr>\n",
       "    <tr>\n",
       "      <th>2020-06-05</th>\n",
       "      <td>NaN</td>\n",
       "      <td>NaN</td>\n",
       "      <td>NaN</td>\n",
       "    </tr>\n",
       "    <tr>\n",
       "      <th>2020-06-06</th>\n",
       "      <td>NaN</td>\n",
       "      <td>NaN</td>\n",
       "      <td>NaN</td>\n",
       "    </tr>\n",
       "    <tr>\n",
       "      <th>2020-06-07</th>\n",
       "      <td>NaN</td>\n",
       "      <td>NaN</td>\n",
       "      <td>NaN</td>\n",
       "    </tr>\n",
       "    <tr>\n",
       "      <th>2020-06-08</th>\n",
       "      <td>NaN</td>\n",
       "      <td>NaN</td>\n",
       "      <td>NaN</td>\n",
       "    </tr>\n",
       "    <tr>\n",
       "      <th>2020-06-09</th>\n",
       "      <td>NaN</td>\n",
       "      <td>NaN</td>\n",
       "      <td>NaN</td>\n",
       "    </tr>\n",
       "    <tr>\n",
       "      <th>2020-06-10</th>\n",
       "      <td>NaN</td>\n",
       "      <td>NaN</td>\n",
       "      <td>NaN</td>\n",
       "    </tr>\n",
       "    <tr>\n",
       "      <th>2020-06-11</th>\n",
       "      <td>NaN</td>\n",
       "      <td>NaN</td>\n",
       "      <td>NaN</td>\n",
       "    </tr>\n",
       "    <tr>\n",
       "      <th>2020-06-12</th>\n",
       "      <td>NaN</td>\n",
       "      <td>NaN</td>\n",
       "      <td>NaN</td>\n",
       "    </tr>\n",
       "    <tr>\n",
       "      <th>2020-06-13</th>\n",
       "      <td>NaN</td>\n",
       "      <td>NaN</td>\n",
       "      <td>NaN</td>\n",
       "    </tr>\n",
       "    <tr>\n",
       "      <th>2020-06-14</th>\n",
       "      <td>NaN</td>\n",
       "      <td>NaN</td>\n",
       "      <td>NaN</td>\n",
       "    </tr>\n",
       "    <tr>\n",
       "      <th>2020-06-15</th>\n",
       "      <td>NaN</td>\n",
       "      <td>NaN</td>\n",
       "      <td>NaN</td>\n",
       "    </tr>\n",
       "    <tr>\n",
       "      <th>2020-06-16</th>\n",
       "      <td>NaN</td>\n",
       "      <td>NaN</td>\n",
       "      <td>NaN</td>\n",
       "    </tr>\n",
       "    <tr>\n",
       "      <th>2020-06-17</th>\n",
       "      <td>NaN</td>\n",
       "      <td>NaN</td>\n",
       "      <td>NaN</td>\n",
       "    </tr>\n",
       "    <tr>\n",
       "      <th>2020-06-18</th>\n",
       "      <td>NaN</td>\n",
       "      <td>NaN</td>\n",
       "      <td>NaN</td>\n",
       "    </tr>\n",
       "    <tr>\n",
       "      <th>2020-06-19</th>\n",
       "      <td>NaN</td>\n",
       "      <td>NaN</td>\n",
       "      <td>NaN</td>\n",
       "    </tr>\n",
       "  </tbody>\n",
       "</table>\n",
       "</div>"
      ],
      "text/plain": [
       "            Energy_Consumption  Seasonal First Difference   forecast1\n",
       "2020-05-20              132.89                     -75.40  157.825136\n",
       "2020-05-21              175.10                      42.21         NaN\n",
       "2020-05-22                 NaN                        NaN         NaN\n",
       "2020-05-23                 NaN                        NaN         NaN\n",
       "2020-05-24                 NaN                        NaN         NaN\n",
       "2020-05-25                 NaN                        NaN         NaN\n",
       "2020-05-26                 NaN                        NaN         NaN\n",
       "2020-05-27                 NaN                        NaN         NaN\n",
       "2020-05-28                 NaN                        NaN         NaN\n",
       "2020-05-29                 NaN                        NaN         NaN\n",
       "2020-05-30                 NaN                        NaN         NaN\n",
       "2020-05-31                 NaN                        NaN         NaN\n",
       "2020-06-01                 NaN                        NaN         NaN\n",
       "2020-06-02                 NaN                        NaN         NaN\n",
       "2020-06-03                 NaN                        NaN         NaN\n",
       "2020-06-04                 NaN                        NaN         NaN\n",
       "2020-06-05                 NaN                        NaN         NaN\n",
       "2020-06-06                 NaN                        NaN         NaN\n",
       "2020-06-07                 NaN                        NaN         NaN\n",
       "2020-06-08                 NaN                        NaN         NaN\n",
       "2020-06-09                 NaN                        NaN         NaN\n",
       "2020-06-10                 NaN                        NaN         NaN\n",
       "2020-06-11                 NaN                        NaN         NaN\n",
       "2020-06-12                 NaN                        NaN         NaN\n",
       "2020-06-13                 NaN                        NaN         NaN\n",
       "2020-06-14                 NaN                        NaN         NaN\n",
       "2020-06-15                 NaN                        NaN         NaN\n",
       "2020-06-16                 NaN                        NaN         NaN\n",
       "2020-06-17                 NaN                        NaN         NaN\n",
       "2020-06-18                 NaN                        NaN         NaN\n",
       "2020-06-19                 NaN                        NaN         NaN"
      ]
     },
     "execution_count": 66,
     "metadata": {},
     "output_type": "execute_result"
    }
   ],
   "source": [
    "future1[78:]"
   ]
  },
  {
   "cell_type": "code",
   "execution_count": 67,
   "metadata": {},
   "outputs": [
    {
     "data": {
      "text/plain": [
       "<matplotlib.axes._subplots.AxesSubplot at 0x2104d4c51c8>"
      ]
     },
     "execution_count": 67,
     "metadata": {},
     "output_type": "execute_result"
    },
    {
     "data": {
      "image/png": "[encoded data removed]",
      "text/plain": [
       "<Figure size 864x576 with 1 Axes>"
      ]
     },
     "metadata": {
      "needs_background": "light"
     },
     "output_type": "display_data"
    }
   ],
   "source": [
    "future1['forecast1'] = results22.predict(start = 78, end = 90, dynamic= False)  \n",
    "future1[['Energy_Consumption','forecast1']].plot(figsize=(12, 8))"
   ]
  },
  {
   "cell_type": "code",
   "execution_count": null,
   "metadata": {},
   "outputs": [],
   "source": []
  }
 ],
 "metadata": {
  "kernelspec": {
   "display_name": "Python 3",
   "language": "python",
   "name": "python3"
  },
  "language_info": {
   "codemirror_mode": {
    "name": "ipython",
    "version": 3
   },
   "file_extension": ".py",
   "mimetype": "text/x-python",
   "name": "python",
   "nbconvert_exporter": "python",
   "pygments_lexer": "ipython3",
   "version": "3.7.6"
  }
 },
 "nbformat": 4,
 "nbformat_minor": 4
}
